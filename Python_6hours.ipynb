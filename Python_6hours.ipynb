{
 "cells": [
  {
   "cell_type": "code",
   "execution_count": 1,
   "id": "0d3524b6",
   "metadata": {},
   "outputs": [
    {
     "data": {
      "text/plain": [
       "8"
      ]
     },
     "execution_count": 1,
     "metadata": {},
     "output_type": "execute_result"
    }
   ],
   "source": [
    "2**3"
   ]
  },
  {
   "cell_type": "code",
   "execution_count": 2,
   "id": "831da288",
   "metadata": {},
   "outputs": [
    {
     "data": {
      "text/plain": [
       "3"
      ]
     },
     "execution_count": 2,
     "metadata": {},
     "output_type": "execute_result"
    }
   ],
   "source": [
    "10//3"
   ]
  },
  {
   "cell_type": "code",
   "execution_count": 3,
   "id": "fc548c92",
   "metadata": {},
   "outputs": [
    {
     "data": {
      "text/plain": [
       "3.3333333333333335"
      ]
     },
     "execution_count": 3,
     "metadata": {},
     "output_type": "execute_result"
    }
   ],
   "source": [
    "10/3"
   ]
  },
  {
   "cell_type": "code",
   "execution_count": 4,
   "id": "85694f35",
   "metadata": {},
   "outputs": [
    {
     "data": {
      "text/plain": [
       "1"
      ]
     },
     "execution_count": 4,
     "metadata": {},
     "output_type": "execute_result"
    }
   ],
   "source": [
    "10%3"
   ]
  },
  {
   "cell_type": "code",
   "execution_count": 5,
   "id": "67c97133",
   "metadata": {},
   "outputs": [
    {
     "data": {
      "text/plain": [
       "'prabalprabalprabalprabalprabal'"
      ]
     },
     "execution_count": 5,
     "metadata": {},
     "output_type": "execute_result"
    }
   ],
   "source": [
    "5*'prabal'"
   ]
  },
  {
   "cell_type": "code",
   "execution_count": 6,
   "id": "2a60abf4",
   "metadata": {},
   "outputs": [
    {
     "data": {
      "text/plain": [
       "'prabalprabalprabalprabalprabal'"
      ]
     },
     "execution_count": 6,
     "metadata": {},
     "output_type": "execute_result"
    }
   ],
   "source": [
    "'prabal'*5"
   ]
  },
  {
   "cell_type": "code",
   "execution_count": 7,
   "id": "e7e4c610",
   "metadata": {},
   "outputs": [
    {
     "name": "stdout",
     "output_type": "stream",
     "text": [
      "c:\\docs\n",
      "prabal\n"
     ]
    }
   ],
   "source": [
    "print(\"c:\\docs\\nprabal\")"
   ]
  },
  {
   "cell_type": "code",
   "execution_count": 8,
   "id": "50d14dd9",
   "metadata": {},
   "outputs": [
    {
     "name": "stdout",
     "output_type": "stream",
     "text": [
      "c:\\docs\\nprabal\n"
     ]
    }
   ],
   "source": [
    "print(r\"c:\\docs\\nprabal\")"
   ]
  },
  {
   "cell_type": "code",
   "execution_count": 9,
   "id": "9c94a6ed",
   "metadata": {},
   "outputs": [],
   "source": [
    "name = \"youtube\""
   ]
  },
  {
   "cell_type": "code",
   "execution_count": 10,
   "id": "c3634de1",
   "metadata": {},
   "outputs": [
    {
     "data": {
      "text/plain": [
       "'y'"
      ]
     },
     "execution_count": 10,
     "metadata": {},
     "output_type": "execute_result"
    }
   ],
   "source": [
    "name[0]"
   ]
  },
  {
   "cell_type": "code",
   "execution_count": 11,
   "id": "2e7589be",
   "metadata": {},
   "outputs": [
    {
     "data": {
      "text/plain": [
       "'e'"
      ]
     },
     "execution_count": 11,
     "metadata": {},
     "output_type": "execute_result"
    }
   ],
   "source": [
    "name[6]"
   ]
  },
  {
   "cell_type": "code",
   "execution_count": 12,
   "id": "c87baa95",
   "metadata": {},
   "outputs": [
    {
     "ename": "IndexError",
     "evalue": "string index out of range",
     "output_type": "error",
     "traceback": [
      "\u001b[1;31m---------------------------------------------------------------------------\u001b[0m",
      "\u001b[1;31mIndexError\u001b[0m                                Traceback (most recent call last)",
      "Cell \u001b[1;32mIn[12], line 1\u001b[0m\n\u001b[1;32m----> 1\u001b[0m name[\u001b[38;5;241m7\u001b[39m]\n",
      "\u001b[1;31mIndexError\u001b[0m: string index out of range"
     ]
    }
   ],
   "source": [
    "name[7]"
   ]
  },
  {
   "cell_type": "code",
   "execution_count": 13,
   "id": "0444dff3",
   "metadata": {},
   "outputs": [
    {
     "data": {
      "text/plain": [
       "'y'"
      ]
     },
     "execution_count": 13,
     "metadata": {},
     "output_type": "execute_result"
    }
   ],
   "source": [
    "name[-7]"
   ]
  },
  {
   "cell_type": "code",
   "execution_count": 14,
   "id": "fa13caf1",
   "metadata": {},
   "outputs": [
    {
     "data": {
      "text/plain": [
       "'e'"
      ]
     },
     "execution_count": 14,
     "metadata": {},
     "output_type": "execute_result"
    }
   ],
   "source": [
    "name[-1]"
   ]
  },
  {
   "cell_type": "code",
   "execution_count": 15,
   "id": "ddf3181e",
   "metadata": {},
   "outputs": [
    {
     "data": {
      "text/plain": [
       "'you'"
      ]
     },
     "execution_count": 15,
     "metadata": {},
     "output_type": "execute_result"
    }
   ],
   "source": [
    "name[0:3]"
   ]
  },
  {
   "cell_type": "code",
   "execution_count": 16,
   "id": "9c936944",
   "metadata": {},
   "outputs": [
    {
     "data": {
      "text/plain": [
       "'utu'"
      ]
     },
     "execution_count": 16,
     "metadata": {},
     "output_type": "execute_result"
    }
   ],
   "source": [
    "name[2:5]"
   ]
  },
  {
   "cell_type": "code",
   "execution_count": 17,
   "id": "e4c48353",
   "metadata": {},
   "outputs": [
    {
     "data": {
      "text/plain": [
       "'outube'"
      ]
     },
     "execution_count": 17,
     "metadata": {},
     "output_type": "execute_result"
    }
   ],
   "source": [
    "name[1:]"
   ]
  },
  {
   "cell_type": "code",
   "execution_count": 18,
   "id": "e706049f",
   "metadata": {},
   "outputs": [
    {
     "data": {
      "text/plain": [
       "'yout'"
      ]
     },
     "execution_count": 18,
     "metadata": {},
     "output_type": "execute_result"
    }
   ],
   "source": [
    "name[:4]"
   ]
  },
  {
   "cell_type": "code",
   "execution_count": 19,
   "id": "289b9055",
   "metadata": {},
   "outputs": [
    {
     "data": {
      "text/plain": [
       "7"
      ]
     },
     "execution_count": 19,
     "metadata": {},
     "output_type": "execute_result"
    }
   ],
   "source": [
    "len(name)"
   ]
  },
  {
   "cell_type": "markdown",
   "id": "f9a6e1f4",
   "metadata": {},
   "source": [
    "# list"
   ]
  },
  {
   "cell_type": "code",
   "execution_count": 20,
   "id": "53397a5f",
   "metadata": {},
   "outputs": [
    {
     "data": {
      "text/plain": [
       "[25, 12, 36, 95, 14]"
      ]
     },
     "execution_count": 20,
     "metadata": {},
     "output_type": "execute_result"
    }
   ],
   "source": [
    "nums = [25,12,36,95,14]\n",
    "nums"
   ]
  },
  {
   "cell_type": "code",
   "execution_count": 21,
   "id": "c0f4a965",
   "metadata": {},
   "outputs": [
    {
     "data": {
      "text/plain": [
       "25"
      ]
     },
     "execution_count": 21,
     "metadata": {},
     "output_type": "execute_result"
    }
   ],
   "source": [
    "nums[0]"
   ]
  },
  {
   "cell_type": "code",
   "execution_count": 22,
   "id": "15e18148",
   "metadata": {},
   "outputs": [
    {
     "data": {
      "text/plain": [
       "14"
      ]
     },
     "execution_count": 22,
     "metadata": {},
     "output_type": "execute_result"
    }
   ],
   "source": [
    "nums[-1]"
   ]
  },
  {
   "cell_type": "code",
   "execution_count": 23,
   "id": "5a552cee",
   "metadata": {},
   "outputs": [
    {
     "data": {
      "text/plain": [
       "14"
      ]
     },
     "execution_count": 23,
     "metadata": {},
     "output_type": "execute_result"
    }
   ],
   "source": [
    "nums[4]"
   ]
  },
  {
   "cell_type": "code",
   "execution_count": 24,
   "id": "54b69986",
   "metadata": {},
   "outputs": [
    {
     "data": {
      "text/plain": [
       "[36, 95, 14]"
      ]
     },
     "execution_count": 24,
     "metadata": {},
     "output_type": "execute_result"
    }
   ],
   "source": [
    "nums[2:]"
   ]
  },
  {
   "cell_type": "code",
   "execution_count": 25,
   "id": "b368acc5",
   "metadata": {},
   "outputs": [
    {
     "data": {
      "text/plain": [
       "[36, 95, 14]"
      ]
     },
     "execution_count": 25,
     "metadata": {},
     "output_type": "execute_result"
    }
   ],
   "source": [
    "nums[-3:]"
   ]
  },
  {
   "cell_type": "code",
   "execution_count": 26,
   "id": "85eae6f0",
   "metadata": {},
   "outputs": [
    {
     "data": {
      "text/plain": [
       "25"
      ]
     },
     "execution_count": 26,
     "metadata": {},
     "output_type": "execute_result"
    }
   ],
   "source": [
    "nums[-5]"
   ]
  },
  {
   "cell_type": "code",
   "execution_count": 27,
   "id": "d415dec6",
   "metadata": {},
   "outputs": [
    {
     "data": {
      "text/plain": [
       "['prabal', 'ghosh', 'paul']"
      ]
     },
     "execution_count": 27,
     "metadata": {},
     "output_type": "execute_result"
    }
   ],
   "source": [
    "names = [\"prabal\",\"ghosh\",\"paul\"]\n",
    "names"
   ]
  },
  {
   "cell_type": "code",
   "execution_count": 28,
   "id": "70244ae9",
   "metadata": {},
   "outputs": [],
   "source": [
    "values =[9.5, \"cote\", 25]"
   ]
  },
  {
   "cell_type": "code",
   "execution_count": 29,
   "id": "6a7a995d",
   "metadata": {},
   "outputs": [
    {
     "data": {
      "text/plain": [
       "[9.5, 'cote', 25]"
      ]
     },
     "execution_count": 29,
     "metadata": {},
     "output_type": "execute_result"
    }
   ],
   "source": [
    "values"
   ]
  },
  {
   "cell_type": "code",
   "execution_count": 30,
   "id": "609d3abb",
   "metadata": {},
   "outputs": [],
   "source": [
    "mil = [nums, names]"
   ]
  },
  {
   "cell_type": "code",
   "execution_count": 31,
   "id": "ecc5258c",
   "metadata": {},
   "outputs": [
    {
     "data": {
      "text/plain": [
       "[[25, 12, 36, 95, 14], ['prabal', 'ghosh', 'paul']]"
      ]
     },
     "execution_count": 31,
     "metadata": {},
     "output_type": "execute_result"
    }
   ],
   "source": [
    "mil"
   ]
  },
  {
   "cell_type": "code",
   "execution_count": 32,
   "id": "723d1a89",
   "metadata": {},
   "outputs": [],
   "source": [
    "nums.append(45)"
   ]
  },
  {
   "cell_type": "code",
   "execution_count": 33,
   "id": "bf6ace6a",
   "metadata": {},
   "outputs": [
    {
     "data": {
      "text/plain": [
       "[25, 12, 36, 95, 14, 45]"
      ]
     },
     "execution_count": 33,
     "metadata": {},
     "output_type": "execute_result"
    }
   ],
   "source": [
    "nums"
   ]
  },
  {
   "cell_type": "code",
   "execution_count": 34,
   "id": "6dcb42d3",
   "metadata": {},
   "outputs": [
    {
     "data": {
      "text/plain": [
       "[25, 12, 27, 36, 95, 14, 45]"
      ]
     },
     "execution_count": 34,
     "metadata": {},
     "output_type": "execute_result"
    }
   ],
   "source": [
    "nums.insert(2,27)\n",
    "nums"
   ]
  },
  {
   "cell_type": "code",
   "execution_count": 35,
   "id": "2bb3f5f8",
   "metadata": {},
   "outputs": [],
   "source": [
    "nums.remove(14)"
   ]
  },
  {
   "cell_type": "code",
   "execution_count": 36,
   "id": "4e989e30",
   "metadata": {},
   "outputs": [
    {
     "data": {
      "text/plain": [
       "[25, 12, 27, 36, 95, 45]"
      ]
     },
     "execution_count": 36,
     "metadata": {},
     "output_type": "execute_result"
    }
   ],
   "source": [
    "nums"
   ]
  },
  {
   "cell_type": "code",
   "execution_count": 37,
   "id": "7c8c5b98",
   "metadata": {},
   "outputs": [
    {
     "data": {
      "text/plain": [
       "45"
      ]
     },
     "execution_count": 37,
     "metadata": {},
     "output_type": "execute_result"
    }
   ],
   "source": [
    "nums.pop()"
   ]
  },
  {
   "cell_type": "code",
   "execution_count": 38,
   "id": "5f58f817",
   "metadata": {},
   "outputs": [
    {
     "data": {
      "text/plain": [
       "[25, 12, 27, 36, 95]"
      ]
     },
     "execution_count": 38,
     "metadata": {},
     "output_type": "execute_result"
    }
   ],
   "source": [
    "nums"
   ]
  },
  {
   "cell_type": "code",
   "execution_count": 39,
   "id": "4a537ede",
   "metadata": {},
   "outputs": [
    {
     "data": {
      "text/plain": [
       "[25, 27, 36, 95]"
      ]
     },
     "execution_count": 39,
     "metadata": {},
     "output_type": "execute_result"
    }
   ],
   "source": [
    "nums.pop(1)\n",
    "nums"
   ]
  },
  {
   "cell_type": "code",
   "execution_count": 40,
   "id": "2f2e1730",
   "metadata": {},
   "outputs": [],
   "source": [
    "del nums[2:]"
   ]
  },
  {
   "cell_type": "code",
   "execution_count": 41,
   "id": "28562d2c",
   "metadata": {},
   "outputs": [
    {
     "data": {
      "text/plain": [
       "[25, 27]"
      ]
     },
     "execution_count": 41,
     "metadata": {},
     "output_type": "execute_result"
    }
   ],
   "source": [
    "nums"
   ]
  },
  {
   "cell_type": "code",
   "execution_count": 42,
   "id": "ffd9ba25",
   "metadata": {},
   "outputs": [],
   "source": [
    "nums.extend([60,40,50])"
   ]
  },
  {
   "cell_type": "code",
   "execution_count": 43,
   "id": "066f0741",
   "metadata": {},
   "outputs": [
    {
     "data": {
      "text/plain": [
       "[25, 27, 60, 40, 50]"
      ]
     },
     "execution_count": 43,
     "metadata": {},
     "output_type": "execute_result"
    }
   ],
   "source": [
    "nums"
   ]
  },
  {
   "cell_type": "code",
   "execution_count": 44,
   "id": "1ce3bd57",
   "metadata": {},
   "outputs": [
    {
     "data": {
      "text/plain": [
       "25"
      ]
     },
     "execution_count": 44,
     "metadata": {},
     "output_type": "execute_result"
    }
   ],
   "source": [
    "min(nums)"
   ]
  },
  {
   "cell_type": "code",
   "execution_count": 45,
   "id": "80b628c2",
   "metadata": {},
   "outputs": [
    {
     "data": {
      "text/plain": [
       "60"
      ]
     },
     "execution_count": 45,
     "metadata": {},
     "output_type": "execute_result"
    }
   ],
   "source": [
    "max(nums)"
   ]
  },
  {
   "cell_type": "code",
   "execution_count": 46,
   "id": "53dee48e",
   "metadata": {},
   "outputs": [
    {
     "data": {
      "text/plain": [
       "202"
      ]
     },
     "execution_count": 46,
     "metadata": {},
     "output_type": "execute_result"
    }
   ],
   "source": [
    "sum(nums)"
   ]
  },
  {
   "cell_type": "code",
   "execution_count": 47,
   "id": "48f6fcdf",
   "metadata": {},
   "outputs": [],
   "source": [
    "nums.sort()"
   ]
  },
  {
   "cell_type": "code",
   "execution_count": 48,
   "id": "07374b8c",
   "metadata": {},
   "outputs": [
    {
     "data": {
      "text/plain": [
       "[25, 27, 40, 50, 60]"
      ]
     },
     "execution_count": 48,
     "metadata": {},
     "output_type": "execute_result"
    }
   ],
   "source": [
    "nums"
   ]
  },
  {
   "cell_type": "code",
   "execution_count": null,
   "id": "6b736178",
   "metadata": {},
   "outputs": [],
   "source": []
  },
  {
   "cell_type": "code",
   "execution_count": null,
   "id": "873f1c64",
   "metadata": {},
   "outputs": [],
   "source": []
  },
  {
   "cell_type": "markdown",
   "id": "9f518613",
   "metadata": {},
   "source": [
    "# tuple"
   ]
  },
  {
   "cell_type": "code",
   "execution_count": 49,
   "id": "344cac39",
   "metadata": {},
   "outputs": [],
   "source": [
    "tup = (21,36,14,25)"
   ]
  },
  {
   "cell_type": "code",
   "execution_count": 50,
   "id": "b073b1e3",
   "metadata": {},
   "outputs": [
    {
     "data": {
      "text/plain": [
       "(21, 36, 14, 25)"
      ]
     },
     "execution_count": 50,
     "metadata": {},
     "output_type": "execute_result"
    }
   ],
   "source": [
    "tup"
   ]
  },
  {
   "cell_type": "code",
   "execution_count": 51,
   "id": "859809e4",
   "metadata": {},
   "outputs": [
    {
     "data": {
      "text/plain": [
       "36"
      ]
     },
     "execution_count": 51,
     "metadata": {},
     "output_type": "execute_result"
    }
   ],
   "source": [
    "tup[1]"
   ]
  },
  {
   "cell_type": "code",
   "execution_count": 52,
   "id": "537906d8",
   "metadata": {},
   "outputs": [],
   "source": [
    "s = [22,25,14,21,5]"
   ]
  },
  {
   "cell_type": "code",
   "execution_count": 53,
   "id": "b6439211",
   "metadata": {},
   "outputs": [
    {
     "data": {
      "text/plain": [
       "[22, 25, 14, 21, 5]"
      ]
     },
     "execution_count": 53,
     "metadata": {},
     "output_type": "execute_result"
    }
   ],
   "source": [
    "s"
   ]
  },
  {
   "cell_type": "code",
   "execution_count": null,
   "id": "47d78998",
   "metadata": {},
   "outputs": [],
   "source": []
  },
  {
   "cell_type": "markdown",
   "id": "fa1f2547",
   "metadata": {},
   "source": [
    "# set"
   ]
  },
  {
   "cell_type": "code",
   "execution_count": 54,
   "id": "62318872",
   "metadata": {},
   "outputs": [],
   "source": [
    "s = {22,25,14,21,5}"
   ]
  },
  {
   "cell_type": "code",
   "execution_count": 55,
   "id": "d00b2398",
   "metadata": {},
   "outputs": [
    {
     "data": {
      "text/plain": [
       "{5, 14, 21, 22, 25}"
      ]
     },
     "execution_count": 55,
     "metadata": {},
     "output_type": "execute_result"
    }
   ],
   "source": [
    "s"
   ]
  },
  {
   "cell_type": "code",
   "execution_count": 56,
   "id": "b95fbc23",
   "metadata": {},
   "outputs": [
    {
     "data": {
      "text/plain": [
       "{5, 14, 21, 22, 25}"
      ]
     },
     "execution_count": 56,
     "metadata": {},
     "output_type": "execute_result"
    }
   ],
   "source": [
    "s = {22,25,25,14,21,5,5,5}\n",
    "s"
   ]
  },
  {
   "cell_type": "code",
   "execution_count": 57,
   "id": "d5f738ff",
   "metadata": {},
   "outputs": [
    {
     "ename": "TypeError",
     "evalue": "'set' object is not subscriptable",
     "output_type": "error",
     "traceback": [
      "\u001b[1;31m---------------------------------------------------------------------------\u001b[0m",
      "\u001b[1;31mTypeError\u001b[0m                                 Traceback (most recent call last)",
      "Cell \u001b[1;32mIn[57], line 1\u001b[0m\n\u001b[1;32m----> 1\u001b[0m s[\u001b[38;5;241m2\u001b[39m]\n",
      "\u001b[1;31mTypeError\u001b[0m: 'set' object is not subscriptable"
     ]
    }
   ],
   "source": [
    "s[2]"
   ]
  },
  {
   "cell_type": "code",
   "execution_count": 58,
   "id": "0f09c39d",
   "metadata": {},
   "outputs": [],
   "source": [
    "s.add(100)"
   ]
  },
  {
   "cell_type": "code",
   "execution_count": 59,
   "id": "ff436b3f",
   "metadata": {},
   "outputs": [
    {
     "data": {
      "text/plain": [
       "{5, 14, 21, 22, 25, 100}"
      ]
     },
     "execution_count": 59,
     "metadata": {},
     "output_type": "execute_result"
    }
   ],
   "source": [
    "s"
   ]
  },
  {
   "cell_type": "code",
   "execution_count": null,
   "id": "93c18f6c",
   "metadata": {},
   "outputs": [],
   "source": []
  },
  {
   "cell_type": "code",
   "execution_count": 60,
   "id": "194f67ac",
   "metadata": {},
   "outputs": [
    {
     "data": {
      "text/plain": [
       "float"
      ]
     },
     "execution_count": 60,
     "metadata": {},
     "output_type": "execute_result"
    }
   ],
   "source": [
    "num = 2.5\n",
    "type(num)"
   ]
  },
  {
   "cell_type": "code",
   "execution_count": 61,
   "id": "e95daf49",
   "metadata": {},
   "outputs": [
    {
     "data": {
      "text/plain": [
       "int"
      ]
     },
     "execution_count": 61,
     "metadata": {},
     "output_type": "execute_result"
    }
   ],
   "source": [
    "num = 5\n",
    "type(num)"
   ]
  },
  {
   "cell_type": "code",
   "execution_count": 62,
   "id": "0ad98124",
   "metadata": {},
   "outputs": [
    {
     "data": {
      "text/plain": [
       "5"
      ]
     },
     "execution_count": 62,
     "metadata": {},
     "output_type": "execute_result"
    }
   ],
   "source": [
    "a = 5.6\n",
    "b=int(a)\n",
    "b"
   ]
  },
  {
   "cell_type": "code",
   "execution_count": 63,
   "metadata": {},
   "outputs": [
    {
     "data": {
      "text/plain": [
       "5.0"
      ]
     },
     "execution_count": 63,
     "metadata": {},
     "output_type": "execute_result"
    }
   ],
   "source": [
    "k = float(b)\n",
    "k"
   ]
  },
  {
   "cell_type": "code",
   "execution_count": 64,
   "id": "dd970ea8",
   "metadata": {},
   "outputs": [
    {
     "data": {
      "text/plain": [
       "False"
      ]
     },
     "execution_count": 64,
     "metadata": {},
     "output_type": "execute_result"
    }
   ],
   "source": [
    "bo = 7<5\n",
    "bo"
   ]
  },
  {
   "cell_type": "code",
   "execution_count": 65,
   "id": "cdd6ba05",
   "metadata": {},
   "outputs": [
    {
     "data": {
      "text/plain": [
       "bool"
      ]
     },
     "execution_count": 65,
     "metadata": {},
     "output_type": "execute_result"
    }
   ],
   "source": [
    "type(bo)"
   ]
  },
  {
   "cell_type": "code",
   "execution_count": 66,
   "metadata": {},
   "outputs": [
    {
     "data": {
      "text/plain": [
       "1"
      ]
     },
     "execution_count": 66,
     "metadata": {},
     "output_type": "execute_result"
    }
   ],
   "source": [
    "int(True)"
   ]
  },
  {
   "cell_type": "code",
   "execution_count": 67,
   "id": "9502ec43",
   "metadata": {},
   "outputs": [
    {
     "data": {
      "text/plain": [
       "0"
      ]
     },
     "execution_count": 67,
     "metadata": {},
     "output_type": "execute_result"
    }
   ],
   "source": [
    "int(False)"
   ]
  },
  {
   "cell_type": "code",
   "execution_count": 68,
   "id": "8733dc4d",
   "metadata": {},
   "outputs": [
    {
     "data": {
      "text/plain": [
       "list"
      ]
     },
     "execution_count": 68,
     "metadata": {},
     "output_type": "execute_result"
    }
   ],
   "source": [
    "LST = [25, 36, 14, 25]\n",
    "type(LST)"
   ]
  },
  {
   "cell_type": "code",
   "execution_count": 69,
   "id": "3822b4e9",
   "metadata": {},
   "outputs": [
    {
     "data": {
      "text/plain": [
       "str"
      ]
     },
     "execution_count": 69,
     "metadata": {},
     "output_type": "execute_result"
    }
   ],
   "source": [
    "str = \"prabal\"\n",
    "type(str)"
   ]
  },
  {
   "cell_type": "code",
   "execution_count": 70,
   "id": "fe92abd2",
   "metadata": {},
   "outputs": [
    {
     "data": {
      "text/plain": [
       "range(0, 10)"
      ]
     },
     "execution_count": 70,
     "metadata": {},
     "output_type": "execute_result"
    }
   ],
   "source": [
    "range(0,10)"
   ]
  },
  {
   "cell_type": "code",
   "execution_count": 71,
   "id": "55d5db34",
   "metadata": {},
   "outputs": [
    {
     "data": {
      "text/plain": [
       "[0, 1, 2, 3, 4, 5, 6, 7, 8, 9]"
      ]
     },
     "execution_count": 71,
     "metadata": {},
     "output_type": "execute_result"
    }
   ],
   "source": [
    "list(range(10))"
   ]
  },
  {
   "cell_type": "code",
   "execution_count": 72,
   "id": "c58f3246",
   "metadata": {},
   "outputs": [
    {
     "name": "stdout",
     "output_type": "stream",
     "text": [
      "0\n",
      "1\n",
      "2\n",
      "3\n",
      "4\n",
      "5\n",
      "6\n",
      "7\n",
      "8\n",
      "9\n"
     ]
    }
   ],
   "source": [
    "for i in range(10):\n",
    "    print(i)"
   ]
  },
  {
   "cell_type": "code",
   "execution_count": 75,
   "id": "de211a5d",
   "metadata": {},
   "outputs": [
    {
     "data": {
      "text/plain": [
       "[0, 1, 2, 3, 4, 5, 6, 7, 8, 9]"
      ]
     },
     "execution_count": 75,
     "metadata": {},
     "output_type": "execute_result"
    }
   ],
   "source": [
    "list1= []\n",
    "for i in range(10):\n",
    "    list1.append(i)\n",
    "list1"
   ]
  },
  {
   "cell_type": "code",
   "execution_count": 78,
   "id": "9a396d42",
   "metadata": {},
   "outputs": [
    {
     "data": {
      "text/plain": [
       "[range(0, 10)]"
      ]
     },
     "execution_count": 78,
     "metadata": {},
     "output_type": "execute_result"
    }
   ],
   "source": [
    "[range(10)]"
   ]
  },
  {
   "cell_type": "code",
   "execution_count": 77,
   "id": "d5486290",
   "metadata": {},
   "outputs": [
    {
     "data": {
      "text/plain": [
       "[0, 1, 2, 3, 4, 5, 6, 7, 8, 9]"
      ]
     },
     "execution_count": 77,
     "metadata": {},
     "output_type": "execute_result"
    }
   ],
   "source": [
    "list(range(10))"
   ]
  },
  {
   "cell_type": "code",
   "execution_count": 79,
   "id": "c1f1f96b",
   "metadata": {},
   "outputs": [
    {
     "data": {
      "text/plain": [
       "[2, 3, 4, 5, 6, 7, 8, 9]"
      ]
     },
     "execution_count": 79,
     "metadata": {},
     "output_type": "execute_result"
    }
   ],
   "source": [
    "list(range(2,10))"
   ]
  },
  {
   "cell_type": "code",
   "execution_count": 80,
   "id": "55e3b06c",
   "metadata": {},
   "outputs": [
    {
     "data": {
      "text/plain": [
       "[2, 4, 6, 8]"
      ]
     },
     "execution_count": 80,
     "metadata": {},
     "output_type": "execute_result"
    }
   ],
   "source": [
    "list(range(2,10,2))"
   ]
  },
  {
   "cell_type": "code",
   "execution_count": 83,
   "id": "2a36cad9",
   "metadata": {},
   "outputs": [
    {
     "data": {
      "text/plain": [
       "{'prabal': '1', 'samantha': 2, 'ghosh': 3, 'paul': 4}"
      ]
     },
     "execution_count": 83,
     "metadata": {},
     "output_type": "execute_result"
    }
   ],
   "source": [
    "d = { 'prabal' : '1', 'samantha' : 2, 'ghosh': 3, 'paul': 4 }\n",
    "d"
   ]
  },
  {
   "cell_type": "code",
   "execution_count": 84,
   "id": "6c4bf4ef",
   "metadata": {},
   "outputs": [
    {
     "data": {
      "text/plain": [
       "'1'"
      ]
     },
     "execution_count": 84,
     "metadata": {},
     "output_type": "execute_result"
    }
   ],
   "source": [
    "d.get(\"prabal\")"
   ]
  },
  {
   "cell_type": "code",
   "execution_count": 85,
   "id": "3fc4356d",
   "metadata": {},
   "outputs": [
    {
     "data": {
      "text/plain": [
       "dict_keys(['prabal', 'samantha', 'ghosh', 'paul'])"
      ]
     },
     "execution_count": 85,
     "metadata": {},
     "output_type": "execute_result"
    }
   ],
   "source": [
    "d.keys()"
   ]
  },
  {
   "cell_type": "code",
   "execution_count": 87,
   "id": "749d4aff",
   "metadata": {},
   "outputs": [
    {
     "data": {
      "text/plain": [
       "dict_values(['1', 2, 3, 4])"
      ]
     },
     "execution_count": 87,
     "metadata": {},
     "output_type": "execute_result"
    }
   ],
   "source": [
    "d.values()"
   ]
  },
  {
   "cell_type": "code",
   "execution_count": 88,
   "id": "3581c112",
   "metadata": {},
   "outputs": [
    {
     "data": {
      "text/plain": [
       "'1'"
      ]
     },
     "execution_count": 88,
     "metadata": {},
     "output_type": "execute_result"
    }
   ],
   "source": [
    "d[\"prabal\"]"
   ]
  },
  {
   "cell_type": "code",
   "execution_count": 90,
   "id": "41e8fb4e",
   "metadata": {},
   "outputs": [
    {
     "data": {
      "text/plain": [
       "7"
      ]
     },
     "execution_count": 90,
     "metadata": {},
     "output_type": "execute_result"
    }
   ],
   "source": [
    "x=5\n",
    "x += 2\n",
    "x"
   ]
  },
  {
   "cell_type": "code",
   "execution_count": 91,
   "id": "d4def4c0",
   "metadata": {},
   "outputs": [
    {
     "data": {
      "text/plain": [
       "21"
      ]
     },
     "execution_count": 91,
     "metadata": {},
     "output_type": "execute_result"
    }
   ],
   "source": [
    "x*=3\n",
    "x"
   ]
  },
  {
   "cell_type": "code",
   "execution_count": 92,
   "id": "d33c0edb",
   "metadata": {},
   "outputs": [
    {
     "data": {
      "text/plain": [
       "-13"
      ]
     },
     "execution_count": 92,
     "metadata": {},
     "output_type": "execute_result"
    }
   ],
   "source": [
    "~ 12"
   ]
  },
  {
   "cell_type": "code",
   "execution_count": 95,
   "id": "0495ed17",
   "metadata": {},
   "outputs": [],
   "source": [
    "import math"
   ]
  },
  {
   "cell_type": "code",
   "execution_count": 97,
   "id": "c9dcc197",
   "metadata": {},
   "outputs": [
    {
     "data": {
      "text/plain": [
       "5.0"
      ]
     },
     "execution_count": 97,
     "metadata": {},
     "output_type": "execute_result"
    }
   ],
   "source": [
    "x = math.sqrt(25)\n",
    "x"
   ]
  },
  {
   "cell_type": "code",
   "execution_count": 98,
   "id": "d42a5264",
   "metadata": {},
   "outputs": [
    {
     "data": {
      "text/plain": [
       "8.0"
      ]
     },
     "execution_count": 98,
     "metadata": {},
     "output_type": "execute_result"
    }
   ],
   "source": [
    "math.pow(2,3)"
   ]
  },
  {
   "cell_type": "code",
   "execution_count": 99,
   "id": "7d59fd6e",
   "metadata": {},
   "outputs": [
    {
     "data": {
      "text/plain": [
       "3.141592653589793"
      ]
     },
     "execution_count": 99,
     "metadata": {},
     "output_type": "execute_result"
    }
   ],
   "source": [
    "math.pi"
   ]
  },
  {
   "cell_type": "code",
   "execution_count": 100,
   "id": "db24b22f",
   "metadata": {},
   "outputs": [
    {
     "data": {
      "text/plain": [
       "2.718281828459045"
      ]
     },
     "execution_count": 100,
     "metadata": {},
     "output_type": "execute_result"
    }
   ],
   "source": [
    "math.e"
   ]
  },
  {
   "cell_type": "code",
   "execution_count": 101,
   "id": "260af4d4",
   "metadata": {},
   "outputs": [],
   "source": [
    "from math import pi, sqrt\n"
   ]
  },
  {
   "cell_type": "code",
   "execution_count": 102,
   "id": "87121668",
   "metadata": {},
   "outputs": [
    {
     "data": {
      "text/plain": [
       "3.141592653589793"
      ]
     },
     "execution_count": 102,
     "metadata": {},
     "output_type": "execute_result"
    }
   ],
   "source": [
    "pi"
   ]
  },
  {
   "cell_type": "code",
   "execution_count": 103,
   "id": "41e1b125",
   "metadata": {},
   "outputs": [
    {
     "data": {
      "text/plain": [
       "5.0"
      ]
     },
     "execution_count": 103,
     "metadata": {},
     "output_type": "execute_result"
    }
   ],
   "source": [
    "sqrt(25)"
   ]
  },
  {
   "cell_type": "code",
   "execution_count": 104,
   "id": "c6662b27",
   "metadata": {},
   "outputs": [
    {
     "data": {
      "text/plain": [
       "3.141592653589793"
      ]
     },
     "execution_count": 104,
     "metadata": {},
     "output_type": "execute_result"
    }
   ],
   "source": [
    "import math as m\n",
    "m.pi"
   ]
  },
  {
   "cell_type": "code",
   "execution_count": null,
   "id": "e279ddea",
   "metadata": {},
   "outputs": [],
   "source": [
    "x = int(input(\"Enter a number: \"))"
   ]
  },
  {
   "cell_type": "code",
   "execution_count": 4,
   "id": "f25585e0",
   "metadata": {},
   "outputs": [
    {
     "name": "stdout",
     "output_type": "stream",
     "text": [
      "True\n",
      "bye\n"
     ]
    }
   ],
   "source": [
    "if True:\n",
    "    print(\"True\")\n",
    "\n",
    "if False:\n",
    "    print(\"False\")\n",
    "\n",
    "print(\"bye\")"
   ]
  },
  {
   "cell_type": "code",
   "execution_count": 14,
   "id": "1aea14e9",
   "metadata": {},
   "outputs": [
    {
     "name": "stdout",
     "output_type": "stream",
     "text": [
      "even\n",
      "less than 10\n"
     ]
    }
   ],
   "source": [
    "x=8\n",
    "r = x%2\n",
    "if r == 0:\n",
    "    print(\"even\")\n",
    "    if x > 10:\n",
    "        print(\"greater than 10\")\n",
    "    else:\n",
    "        print(\"less than 10\")\n",
    "else:\n",
    "    print(\"odd\")"
   ]
  },
  {
   "cell_type": "code",
   "execution_count": 1,
   "id": "c258ba49",
   "metadata": {},
   "outputs": [
    {
     "name": "stdout",
     "output_type": "stream",
     "text": [
      "other\n"
     ]
    }
   ],
   "source": [
    "x = 6\n",
    "if (x == 1):\n",
    "    print(\"one\")\n",
    "elif (x == 2):\n",
    "    print(\"two\")\n",
    "elif (x == 3):\n",
    "    print(\"three\")\n",
    "elif (x == 4):\n",
    "    print(\"four\")\n",
    "else:\n",
    "    print(\"other\")"
   ]
  },
  {
   "cell_type": "code",
   "execution_count": null,
   "id": "82b0ffaf",
   "metadata": {},
   "outputs": [],
   "source": []
  },
  {
   "cell_type": "code",
   "execution_count": null,
   "id": "0b1c1994",
   "metadata": {},
   "outputs": [],
   "source": []
  },
  {
   "cell_type": "code",
   "execution_count": 11,
   "id": "7b00e3ec",
   "metadata": {},
   "outputs": [
    {
     "name": "stdout",
     "output_type": "stream",
     "text": [
      "1 prabal-----------> rcoks 1 rcoks 2 rcoks 3 rcoks 4 \n",
      "2 prabal-----------> rcoks 1 rcoks 2 rcoks 3 rcoks 4 \n",
      "3 prabal-----------> rcoks 1 rcoks 2 rcoks 3 rcoks 4 \n",
      "4 prabal-----------> rcoks 1 rcoks 2 rcoks 3 rcoks 4 \n",
      "5 prabal-----------> rcoks 1 rcoks 2 rcoks 3 rcoks 4 \n"
     ]
    }
   ],
   "source": [
    "i = 1\n",
    "while i <= 5:\n",
    "    print(i,'prabal----------->', end=\" \")\n",
    "    j = 1\n",
    "    while j <= 4:\n",
    "        print(\"rcoks\",j, end=\" \")\n",
    "        j += 1\n",
    "    i += 1  \n",
    "    print()"
   ]
  },
  {
   "cell_type": "code",
   "execution_count": 12,
   "id": "8c6103bc",
   "metadata": {},
   "outputs": [
    {
     "name": "stdout",
     "output_type": "stream",
     "text": [
      "1 prabal-----------> rocks 1 rocks 2 rocks 3 rocks 4 \n",
      "2 prabal-----------> rocks 1 rocks 2 rocks 3 rocks 4 \n",
      "3 prabal-----------> rocks 1 rocks 2 rocks 3 rocks 4 \n",
      "4 prabal-----------> rocks 1 rocks 2 rocks 3 rocks 4 \n",
      "5 prabal-----------> rocks 1 rocks 2 rocks 3 rocks 4 \n"
     ]
    }
   ],
   "source": [
    "for i in range(1, 6):\n",
    "    print(i,'prabal----------->', end=\" \")\n",
    "    for j in range(1, 5):\n",
    "        print(\"rocks\",j, end=\" \")\n",
    "    print()"
   ]
  },
  {
   "cell_type": "code",
   "execution_count": 14,
   "id": "e50dd7f4",
   "metadata": {},
   "outputs": [
    {
     "name": "stdout",
     "output_type": "stream",
     "text": [
      "prabal\n",
      "ghosh\n",
      "paul\n"
     ]
    }
   ],
   "source": [
    "x = [\"prabal\", \"ghosh\", \"paul\"]\n",
    "for i in x:\n",
    "    print(i)"
   ]
  },
  {
   "cell_type": "code",
   "execution_count": 15,
   "id": "aac2680c",
   "metadata": {},
   "outputs": [
    {
     "name": "stdout",
     "output_type": "stream",
     "text": [
      "p\n",
      "r\n",
      "a\n",
      "b\n",
      "a\n",
      "l\n"
     ]
    }
   ],
   "source": [
    "x='prabal'\n",
    "for i in x:\n",
    "    print(i)"
   ]
  },
  {
   "cell_type": "code",
   "execution_count": 19,
   "id": "ecc29302",
   "metadata": {},
   "outputs": [
    {
     "name": "stdout",
     "output_type": "stream",
     "text": [
      "11 13 15 17 19 "
     ]
    }
   ],
   "source": [
    "for i in range(11,21,2):\n",
    "    print(i, end=\" \")"
   ]
  },
  {
   "cell_type": "code",
   "execution_count": 20,
   "id": "9a3df538",
   "metadata": {},
   "outputs": [
    {
     "name": "stdout",
     "output_type": "stream",
     "text": [
      "21 19 17 15 13 11 "
     ]
    }
   ],
   "source": [
    "for i in range(21,10,-2):\n",
    "    print(i, end=\" \")"
   ]
  },
  {
   "cell_type": "code",
   "execution_count": 23,
   "id": "a2c686b0",
   "metadata": {},
   "outputs": [
    {
     "name": "stdout",
     "output_type": "stream",
     "text": [
      "1 3 5 7 9 11 13 15 17 19 "
     ]
    }
   ],
   "source": [
    "for i in range(1,21):\n",
    "    if i%2 != 0:\n",
    "        print(i, end=\" \")"
   ]
  },
  {
   "cell_type": "code",
   "execution_count": 29,
   "id": "1f782175",
   "metadata": {},
   "outputs": [
    {
     "name": "stdout",
     "output_type": "stream",
     "text": [
      "1 candy 2 candy 3 candy 4 candy 5 candy out of stock\n",
      "done\n"
     ]
    }
   ],
   "source": [
    "av = 5\n",
    "\n",
    "x = int(input(\"Enter a number that u want: \"))\n",
    "i = 1\n",
    "while i<= x:\n",
    "    if i>av:\n",
    "        print(\"out of stock\")\n",
    "        break\n",
    "\n",
    "    print(i,'candy', end=\" \")\n",
    "    i += 1\n",
    "print(\"done\")"
   ]
  },
  {
   "cell_type": "code",
   "execution_count": 32,
   "id": "7eb4a851",
   "metadata": {},
   "outputs": [
    {
     "name": "stdout",
     "output_type": "stream",
     "text": [
      "1 2 3 4 5 6 7 8 9 10 11 12 13 14 16 17 18 19 20 21 22 23 24 25 26 27 28 29 31 32 33 34 35 36 37 38 39 40 41 42 43 44 46 47 48 49 50 51 52 53 54 55 56 57 58 59 61 62 63 64 65 66 67 68 69 70 71 72 73 74 76 77 78 79 80 81 82 83 84 85 86 87 88 89 91 92 93 94 95 96 97 98 99 100 done\n"
     ]
    }
   ],
   "source": [
    "for i in range(1,101):\n",
    "    if i%3 ==0 and i%5 == 0:\n",
    "        continue\n",
    "\n",
    "    print(i, end=\" \")\n",
    "\n",
    "print(\"done\")"
   ]
  },
  {
   "cell_type": "code",
   "execution_count": 33,
   "id": "cb9bd106",
   "metadata": {},
   "outputs": [
    {
     "name": "stdout",
     "output_type": "stream",
     "text": [
      "1 2 4 7 8 11 13 14 16 17 19 22 23 26 28 29 31 32 34 37 38 41 43 44 46 47 49 52 53 56 58 59 61 62 64 67 68 71 73 74 76 77 79 82 83 86 88 89 91 92 94 97 98 done\n"
     ]
    }
   ],
   "source": [
    "for i in range(1,101):\n",
    "    if i%3 ==0 or i%5 == 0:\n",
    "        continue\n",
    "\n",
    "    print(i, end=\" \")\n",
    "\n",
    "print(\"done\")"
   ]
  },
  {
   "cell_type": "code",
   "execution_count": 34,
   "id": "d007f21a",
   "metadata": {},
   "outputs": [
    {
     "name": "stdout",
     "output_type": "stream",
     "text": [
      "1 2 Fizz 4 Buzz Fizz 7 8 Fizz Buzz 11 Fizz 13 14 FizzBuzz 16 17 Fizz 19 Buzz Fizz 22 23 Fizz Buzz 26 Fizz 28 29 FizzBuzz 31 32 Fizz 34 Buzz Fizz 37 38 Fizz Buzz 41 Fizz 43 44 FizzBuzz 46 47 Fizz 49 Buzz Fizz 52 53 Fizz Buzz 56 Fizz 58 59 FizzBuzz 61 62 Fizz 64 Buzz Fizz 67 68 Fizz Buzz 71 Fizz 73 74 FizzBuzz 76 77 Fizz 79 Buzz Fizz 82 83 Fizz Buzz 86 Fizz 88 89 FizzBuzz 91 92 Fizz 94 Buzz Fizz 97 98 Fizz Buzz "
     ]
    }
   ],
   "source": [
    "for i in range(1,101):\n",
    "    if i%3 ==0 and i%5 == 0:\n",
    "        print(\"FizzBuzz\", end=\" \")\n",
    "    elif i%3 == 0:\n",
    "        print(\"Fizz\", end=\" \")\n",
    "    elif i%5 == 0:\n",
    "        print(\"Buzz\", end=\" \")\n",
    "    else:\n",
    "        print(i, end=\" \")"
   ]
  },
  {
   "cell_type": "code",
   "execution_count": 37,
   "id": "d31b6a85",
   "metadata": {},
   "outputs": [
    {
     "name": "stdout",
     "output_type": "stream",
     "text": [
      "2 4 6 8 10 12 14 16 18 20 22 24 26 28 30 32 34 36 38 40 42 44 46 48 50 52 54 56 58 60 62 64 66 68 70 72 74 76 78 80 82 84 86 88 90 92 94 96 98 100 "
     ]
    }
   ],
   "source": [
    "for i in range(1,101):\n",
    "    if i%2 != 0:\n",
    "        pass\n",
    "    else:\n",
    "        print(i,    end=\" \")\n",
    "    "
   ]
  },
  {
   "cell_type": "code",
   "execution_count": 38,
   "id": "c0c86fcf",
   "metadata": {},
   "outputs": [
    {
     "name": "stdout",
     "output_type": "stream",
     "text": [
      "# # # # \n",
      "# # # # \n",
      "# # # # \n",
      "# # # # \n"
     ]
    }
   ],
   "source": [
    "for j in range(4):\n",
    "    for i in range(4):\n",
    "        print(\"#\", end=\" \")\n",
    "    print()"
   ]
  },
  {
   "cell_type": "code",
   "execution_count": 40,
   "id": "f698e553",
   "metadata": {},
   "outputs": [
    {
     "name": "stdout",
     "output_type": "stream",
     "text": [
      "# \n",
      "# # \n",
      "# # # \n",
      "# # # # \n"
     ]
    }
   ],
   "source": [
    "for j in range(4):\n",
    "    for i in range(j+1):\n",
    "        print(\"#\", end=\" \")\n",
    "    print()"
   ]
  },
  {
   "cell_type": "code",
   "execution_count": 41,
   "id": "f1f69b3a",
   "metadata": {},
   "outputs": [
    {
     "name": "stdout",
     "output_type": "stream",
     "text": [
      "# # # # \n",
      "# # # \n",
      "# # \n",
      "# \n"
     ]
    }
   ],
   "source": [
    "for j in range(4):\n",
    "    for i in range(4-j):\n",
    "        print(\"#\", end=\" \")\n",
    "    print()"
   ]
  },
  {
   "cell_type": "code",
   "execution_count": 48,
   "id": "979864df",
   "metadata": {},
   "outputs": [
    {
     "name": "stdout",
     "output_type": "stream",
     "text": [
      "i5, 16gb, 1tb\n",
      "i5, 16gb, 1tb\n"
     ]
    }
   ],
   "source": [
    "class Computer:\n",
    "\n",
    "    def config(self):\n",
    "        print(\"i5, 16gb, 1tb\")\n",
    "\n",
    "a = \"8\"\n",
    "obj1 = Computer()\n",
    "obj2 = Computer()\n",
    "obj1.config()\n",
    "obj2.config()\n"
   ]
  },
  {
   "cell_type": "code",
   "execution_count": 44,
   "id": "1781be2e",
   "metadata": {},
   "outputs": [
    {
     "name": "stdout",
     "output_type": "stream",
     "text": [
      "<class '__main__.Computer'>\n"
     ]
    }
   ],
   "source": [
    "print(Computer)"
   ]
  },
  {
   "cell_type": "code",
   "execution_count": 46,
   "id": "8077d876",
   "metadata": {},
   "outputs": [
    {
     "data": {
      "text/plain": [
       "str"
      ]
     },
     "execution_count": 46,
     "metadata": {},
     "output_type": "execute_result"
    }
   ],
   "source": [
    "type(a)"
   ]
  },
  {
   "cell_type": "code",
   "execution_count": 52,
   "id": "b09b0c7c",
   "metadata": {},
   "outputs": [
    {
     "name": "stdout",
     "output_type": "stream",
     "text": [
      "configuration is:  i5 16\n",
      "configuration is:  i7 32\n"
     ]
    }
   ],
   "source": [
    "class Computer:\n",
    "    def __init__(self, cpu, ram):\n",
    "        self.cpu = cpu\n",
    "        self.ram = ram\n",
    "        # print(\"init method called\")\n",
    "\n",
    "    def config(self):\n",
    "        print(\"configuration is: \",self.cpu, self.ram)\n",
    "\n",
    "a = \"8\"\n",
    "obj1 = Computer('i5',16)\n",
    "obj2 = Computer('i7',32)\n",
    "obj1.config()\n",
    "obj2.config()\n"
   ]
  },
  {
   "cell_type": "code",
   "execution_count": 61,
   "id": "4c8433fb",
   "metadata": {},
   "outputs": [],
   "source": [
    "class Computer:\n",
    "    def __init__(self):\n",
    "        self.name = \"name\"\n",
    "        self.age = 28\n",
    "    def update(self):\n",
    "        self.age = 30\n",
    "\n",
    "\n",
    "\n",
    "\n",
    "\n",
    "\n",
    "c1= Computer()\n",
    "c2= Computer()\n",
    "c1.name = \"prabal\"\n",
    "c1.age = 25"
   ]
  },
  {
   "cell_type": "code",
   "execution_count": 62,
   "id": "4a892de4",
   "metadata": {},
   "outputs": [
    {
     "data": {
      "text/plain": [
       "'prabal'"
      ]
     },
     "execution_count": 62,
     "metadata": {},
     "output_type": "execute_result"
    }
   ],
   "source": [
    "c1.name"
   ]
  },
  {
   "cell_type": "code",
   "execution_count": 63,
   "id": "49f6c4d1",
   "metadata": {},
   "outputs": [
    {
     "data": {
      "text/plain": [
       "'name'"
      ]
     },
     "execution_count": 63,
     "metadata": {},
     "output_type": "execute_result"
    }
   ],
   "source": [
    "c2.name\n"
   ]
  },
  {
   "cell_type": "code",
   "execution_count": 64,
   "id": "8d22641e",
   "metadata": {},
   "outputs": [],
   "source": [
    "c1.update()"
   ]
  },
  {
   "cell_type": "code",
   "execution_count": 65,
   "id": "58a2049a",
   "metadata": {},
   "outputs": [
    {
     "data": {
      "text/plain": [
       "30"
      ]
     },
     "execution_count": 65,
     "metadata": {},
     "output_type": "execute_result"
    }
   ],
   "source": [
    "c1.age"
   ]
  },
  {
   "cell_type": "code",
   "execution_count": 66,
   "id": "06170337",
   "metadata": {},
   "outputs": [
    {
     "data": {
      "text/plain": [
       "28"
      ]
     },
     "execution_count": 66,
     "metadata": {},
     "output_type": "execute_result"
    }
   ],
   "source": [
    "c2.age"
   ]
  },
  {
   "cell_type": "code",
   "execution_count": 71,
   "id": "28fa09d0",
   "metadata": {},
   "outputs": [],
   "source": [
    "class Car:\n",
    "    wheels = 4\n",
    "    def __init__(self):\n",
    "        self.model = \"bmw\"\n",
    "        self.mil = 10"
   ]
  },
  {
   "cell_type": "code",
   "execution_count": 72,
   "id": "9f895b7c",
   "metadata": {},
   "outputs": [],
   "source": [
    "c1 =Car()\n",
    "c2 =Car()"
   ]
  },
  {
   "cell_type": "code",
   "execution_count": 82,
   "id": "217ad021",
   "metadata": {},
   "outputs": [],
   "source": [
    "c2.mil = 15   # instance variable\n"
   ]
  },
  {
   "cell_type": "code",
   "execution_count": 83,
   "id": "a11ad666",
   "metadata": {},
   "outputs": [],
   "source": [
    "Car.wheels = 5  # class variable"
   ]
  },
  {
   "cell_type": "code",
   "execution_count": 84,
   "id": "4cd7559b",
   "metadata": {},
   "outputs": [
    {
     "name": "stdout",
     "output_type": "stream",
     "text": [
      "bmw 10 5\n"
     ]
    }
   ],
   "source": [
    "print(c1.model,c1.mil,c1.wheels)"
   ]
  },
  {
   "cell_type": "code",
   "execution_count": null,
   "id": "fde88ba1",
   "metadata": {},
   "outputs": [],
   "source": []
  },
  {
   "cell_type": "code",
   "execution_count": 85,
   "id": "1ab79b9c",
   "metadata": {},
   "outputs": [
    {
     "name": "stdout",
     "output_type": "stream",
     "text": [
      "bmw 15 5\n"
     ]
    }
   ],
   "source": [
    "print(c2.model,c2.mil,c2.wheels)\n"
   ]
  },
  {
   "cell_type": "code",
   "execution_count": null,
   "id": "f71c38ab",
   "metadata": {},
   "outputs": [],
   "source": []
  },
  {
   "cell_type": "code",
   "execution_count": 100,
   "id": "35ae06b9",
   "metadata": {},
   "outputs": [
    {
     "name": "stdout",
     "output_type": "stream",
     "text": [
      "45.0\n",
      "67.0\n",
      "ABC School\n",
      "this is student class\n"
     ]
    }
   ],
   "source": [
    "class Student:\n",
    "    school = \"ABC School\"  # class variable\n",
    "    def __init__(self,m1,m2,m3):\n",
    "        self.m1= m1  # instance variable\n",
    "        self.m2= m2     # instance variable\n",
    "        self.m3= m3   # instance variable\n",
    "\n",
    "    def avg(self):      # instance method\n",
    "        # instance method can access instance variable\n",
    "        return (self.m1 + self.m2 + self.m3)/3\n",
    "    \n",
    "    def get_m1(self): # instance method\n",
    "        return self.m1\n",
    "    \n",
    "    def set_m1(self, value):    # instance method\n",
    "        self.m1 = value\n",
    "\n",
    "    @classmethod\n",
    "    def getSchool(cls):          # class method\n",
    "        return cls.school\n",
    "    \n",
    "    @staticmethod\n",
    "    def info():       # static method\n",
    "        print(\"this is student class\")\n",
    "\n",
    "s1 = Student(34, 56, 45)        \n",
    "s2 = Student(45, 67, 89)\n",
    "print(s1.avg())\n",
    "print(s2.avg())\n",
    "print(Student.getSchool())\n",
    "Student.info()\n"
   ]
  },
  {
   "cell_type": "code",
   "execution_count": 88,
   "id": "0e85b50f",
   "metadata": {},
   "outputs": [
    {
     "data": {
      "text/plain": [
       "67.0"
      ]
     },
     "execution_count": 88,
     "metadata": {},
     "output_type": "execute_result"
    }
   ],
   "source": [
    "s2.avg()"
   ]
  },
  {
   "cell_type": "code",
   "execution_count": 113,
   "id": "432fc342",
   "metadata": {},
   "outputs": [
    {
     "name": "stdout",
     "output_type": "stream",
     "text": [
      "prabal 101\n",
      "HP 50000\n"
     ]
    },
    {
     "data": {
      "text/plain": [
       "'HP'"
      ]
     },
     "execution_count": 113,
     "metadata": {},
     "output_type": "execute_result"
    }
   ],
   "source": [
    "class Student:\n",
    "    def __init__(self, name, roll):\n",
    "        self.name = name\n",
    "        self.roll = roll\n",
    "        self.lap = self.Laptop()\n",
    "    def show(self):\n",
    "        print(self.name, self.roll)\n",
    "        self.lap.show()\n",
    "\n",
    "\n",
    "    class Laptop:\n",
    "        def __init__(self):\n",
    "            self.brand = 'HP'\n",
    "            self.price = 50000        \n",
    "        \n",
    "\n",
    "        def show(self):\n",
    "            print(self.brand, self.price)\n",
    "\n",
    "s1 = Student(\"prabal\", 101)\n",
    "s2 = Student(\"ghosh\", 102)\n",
    "\n",
    "# print(s1.name, s1.roll)\n",
    "# print(s2.name, s2.roll)\n",
    "s1.show()\n",
    "s1.lap.brand\n",
    "\n"
   ]
  },
  {
   "cell_type": "code",
   "execution_count": 114,
   "id": "9e4ee528",
   "metadata": {},
   "outputs": [],
   "source": [
    "lap1 = s1.lap\n",
    "lap2 = s2.lap"
   ]
  },
  {
   "cell_type": "code",
   "execution_count": 115,
   "id": "cfafdf20",
   "metadata": {},
   "outputs": [
    {
     "data": {
      "text/plain": [
       "'HP'"
      ]
     },
     "execution_count": 115,
     "metadata": {},
     "output_type": "execute_result"
    }
   ],
   "source": [
    "lap1.brand "
   ]
  },
  {
   "cell_type": "code",
   "execution_count": 110,
   "id": "4078fbe4",
   "metadata": {},
   "outputs": [],
   "source": [
    "lap1 = Student.Laptop()"
   ]
  },
  {
   "cell_type": "code",
   "execution_count": 111,
   "id": "e8a4e551",
   "metadata": {},
   "outputs": [
    {
     "data": {
      "text/plain": [
       "'HP'"
      ]
     },
     "execution_count": 111,
     "metadata": {},
     "output_type": "execute_result"
    }
   ],
   "source": [
    "lap1.brand"
   ]
  },
  {
   "cell_type": "code",
   "execution_count": 118,
   "id": "15edaeef",
   "metadata": {},
   "outputs": [
    {
     "name": "stdout",
     "output_type": "stream",
     "text": [
      "inside feature1\n",
      "inside feature2\n",
      "inside feature3\n",
      "inside feature4\n"
     ]
    }
   ],
   "source": [
    "class A():\n",
    "    def  feature1(self):\n",
    "        print(\"inside feature1\")\n",
    "    def feature2(self):\n",
    "        print(\"inside feature2\")\n",
    "\n",
    "class B(A):\n",
    "    def feature3(self):\n",
    "        print(\"inside feature3\")\n",
    "    def feature4(self):\n",
    "        print(\"inside feature4\")\n",
    "# a1 = A()\n",
    "# a1.feature1()\n",
    "# a1.feature2()\n",
    "\n",
    "b1 = B()\n",
    "b1.feature1()\n",
    "b1.feature2()\n",
    "b1.feature3()\n",
    "b1.feature4()"
   ]
  },
  {
   "cell_type": "code",
   "execution_count": 119,
   "id": "27c81def",
   "metadata": {},
   "outputs": [
    {
     "name": "stdout",
     "output_type": "stream",
     "text": [
      "inside feature1\n"
     ]
    }
   ],
   "source": [
    "class A():\n",
    "    def  feature1(self):\n",
    "        print(\"inside feature1\")\n",
    "    def feature2(self):\n",
    "        print(\"inside feature2\")\n",
    "\n",
    "class B(A):\n",
    "    def feature3(self):\n",
    "        print(\"inside feature3\")\n",
    "    def feature4(self):\n",
    "        print(\"inside feature4\")\n",
    "class C(B):\n",
    "    def feature5(self):\n",
    "        print(\"inside feature5\")\n",
    "    def feature6(self):\n",
    "        print(\"inside feature6\")\n",
    "# a1 = A()\n",
    "# a1.feature1()\n",
    "# a1.feature2()\n",
    "\n",
    "# b1 = B()\n",
    "# b1.feature1()\n",
    "# b1.feature2()\n",
    "# b1.feature3()\n",
    "# b1.feature4()\n",
    "\n",
    "c1 = C()\n",
    "c1.feature1()"
   ]
  },
  {
   "cell_type": "code",
   "execution_count": 122,
   "id": "80a9d57e",
   "metadata": {},
   "outputs": [
    {
     "name": "stdout",
     "output_type": "stream",
     "text": [
      "inside feature1\n",
      "inside feature3\n",
      "inside feature5\n"
     ]
    }
   ],
   "source": [
    "class A():\n",
    "    def  feature1(self):\n",
    "        print(\"inside feature1\")\n",
    "    def feature2(self):\n",
    "        print(\"inside feature2\")\n",
    "\n",
    "class B():\n",
    "    def feature3(self):\n",
    "        print(\"inside feature3\")\n",
    "    def feature4(self):\n",
    "        print(\"inside feature4\")\n",
    "class C(A,B):\n",
    "    def feature5(self):\n",
    "        print(\"inside feature5\")\n",
    "    def feature6(self):\n",
    "        print(\"inside feature6\")\n",
    "# a1 = A()\n",
    "# a1.feature1()\n",
    "# a1.feature2()\n",
    "\n",
    "# b1 = B()\n",
    "# b1.feature1()\n",
    "# b1.feature2()\n",
    "# b1.feature3()\n",
    "# b1.feature4()\n",
    "\n",
    "c1 = C()\n",
    "c1.feature1()   \n",
    "c1.feature3()\n",
    "c1.feature5()"
   ]
  },
  {
   "cell_type": "code",
   "execution_count": 125,
   "id": "8589fbba",
   "metadata": {},
   "outputs": [
    {
     "name": "stdout",
     "output_type": "stream",
     "text": [
      "init of A\n",
      "inside feature1\n",
      "inside feature2\n",
      "inside feature3\n",
      "inside feature4\n"
     ]
    }
   ],
   "source": [
    "class A():\n",
    "    def __init__(self):\n",
    "        print(\"init of A\")\n",
    "    def  feature1(self):\n",
    "        print(\"inside feature1\")\n",
    "    def feature2(self):\n",
    "        print(\"inside feature2\")\n",
    "\n",
    "class B(A):\n",
    "    def feature3(self):\n",
    "        print(\"inside feature3\")\n",
    "    def feature4(self):\n",
    "        print(\"inside feature4\")\n",
    "# a1 = A()\n",
    "# a1.feature1()\n",
    "# a1.feature2()\n",
    "\n",
    "b1 = B()\n",
    "b1.feature1()\n",
    "b1.feature2()\n",
    "b1.feature3()\n",
    "b1.feature4()"
   ]
  },
  {
   "cell_type": "code",
   "execution_count": 126,
   "id": "d518be43",
   "metadata": {},
   "outputs": [
    {
     "name": "stdout",
     "output_type": "stream",
     "text": [
      "init of B\n",
      "inside feature1\n",
      "inside feature2\n",
      "inside feature3\n",
      "inside feature4\n"
     ]
    }
   ],
   "source": [
    "class A():\n",
    "    def __init__(self):\n",
    "        print(\"init of A\")\n",
    "    def  feature1(self):\n",
    "        print(\"inside feature1\")\n",
    "    def feature2(self):\n",
    "        print(\"inside feature2\")\n",
    "\n",
    "class B(A):\n",
    "    def __init__(self):\n",
    "        # super().__init__()\n",
    "        print(\"init of B\")\n",
    "        \n",
    "    def feature3(self):\n",
    "        print(\"inside feature3\")\n",
    "    def feature4(self):\n",
    "        print(\"inside feature4\")\n",
    "# a1 = A()\n",
    "# a1.feature1()\n",
    "# a1.feature2()\n",
    "\n",
    "b1 = B()\n",
    "b1.feature1()\n",
    "b1.feature2()\n",
    "b1.feature3()\n",
    "b1.feature4()"
   ]
  },
  {
   "cell_type": "code",
   "execution_count": 127,
   "id": "2cf828ce",
   "metadata": {},
   "outputs": [
    {
     "name": "stdout",
     "output_type": "stream",
     "text": [
      "init of A\n",
      "init of B\n",
      "inside feature1\n",
      "inside feature2\n",
      "inside feature3\n",
      "inside feature4\n"
     ]
    }
   ],
   "source": [
    "class A():\n",
    "    def __init__(self):\n",
    "        print(\"init of A\")\n",
    "    def  feature1(self):\n",
    "        print(\"inside feature1\")\n",
    "    def feature2(self):\n",
    "        print(\"inside feature2\")\n",
    "\n",
    "class B(A):\n",
    "    def __init__(self):\n",
    "        super().__init__()\n",
    "        print(\"init of B\")\n",
    "        \n",
    "    def feature3(self):\n",
    "        print(\"inside feature3\")\n",
    "    def feature4(self):\n",
    "        print(\"inside feature4\")\n",
    "# a1 = A()\n",
    "# a1.feature1()\n",
    "# a1.feature2()\n",
    "\n",
    "b1 = B()\n",
    "b1.feature1()\n",
    "b1.feature2()\n",
    "b1.feature3()\n",
    "b1.feature4()"
   ]
  },
  {
   "cell_type": "code",
   "execution_count": 129,
   "id": "9a13c5cd",
   "metadata": {},
   "outputs": [
    {
     "name": "stdout",
     "output_type": "stream",
     "text": [
      "init of C\n"
     ]
    }
   ],
   "source": [
    "class A():\n",
    "    def __init__(self):\n",
    "        print(\"init of A\")\n",
    "    def  feature1(self):\n",
    "        print(\"inside feature1\")\n",
    "    def feature2(self):\n",
    "        print(\"inside feature2\")\n",
    "\n",
    "class B():\n",
    "    def __init__(self):\n",
    "        print(\"init of B\")\n",
    "        \n",
    "    def feature3(self):\n",
    "        print(\"inside feature3\")\n",
    "    def feature4(self):\n",
    "        print(\"inside feature4\")\n",
    "\n",
    "\n",
    "\n",
    "class C(A,B):\n",
    "    def __init__(self):\n",
    "        # super().__init__()\n",
    "        print(\"init of C\")\n",
    "# a1 = A()\n",
    "# a1.feature1()\n",
    "# a1.feature2()\n",
    "\n",
    "# b1 = B()\n",
    "# b1.feature1()\n",
    "# b1.feature2()\n",
    "# b1.feature3()\n",
    "# b1.feature4()\n",
    "\n",
    "c1 = C()\n"
   ]
  },
  {
   "cell_type": "code",
   "execution_count": 130,
   "id": "2a2c0da5",
   "metadata": {},
   "outputs": [
    {
     "name": "stdout",
     "output_type": "stream",
     "text": [
      "init of A\n",
      "init of C\n"
     ]
    }
   ],
   "source": [
    "class A():\n",
    "    def __init__(self):\n",
    "        print(\"init of A\")\n",
    "    def  feature1(self):\n",
    "        print(\"inside feature1\")\n",
    "    def feature2(self):\n",
    "        print(\"inside feature2\")\n",
    "\n",
    "class B():\n",
    "    def __init__(self):\n",
    "        print(\"init of B\")\n",
    "        \n",
    "    def feature3(self):\n",
    "        print(\"inside feature3\")\n",
    "    def feature4(self):\n",
    "        print(\"inside feature4\")\n",
    "\n",
    "\n",
    "\n",
    "class C(A,B):\n",
    "    def __init__(self):\n",
    "        super().__init__()\n",
    "        print(\"init of C\")\n",
    "# a1 = A()\n",
    "# a1.feature1()\n",
    "# a1.feature2()\n",
    "\n",
    "# b1 = B()\n",
    "# b1.feature1()\n",
    "# b1.feature2()\n",
    "# b1.feature3()\n",
    "# b1.feature4()\n",
    "\n",
    "c1 = C()\n"
   ]
  },
  {
   "cell_type": "code",
   "execution_count": 135,
   "id": "4710bacd",
   "metadata": {},
   "outputs": [
    {
     "name": "stdout",
     "output_type": "stream",
     "text": [
      "init of A\n",
      "init of C\n",
      "inside feature2\n"
     ]
    }
   ],
   "source": [
    "class A():\n",
    "    def __init__(self):\n",
    "        print(\"init of A\")\n",
    "    def  feature1(self):\n",
    "        print(\"inside feature1A\")\n",
    "    def feature2(self):\n",
    "        print(\"inside feature2\")\n",
    "\n",
    "class B():\n",
    "    def __init__(self):\n",
    "        print(\"init of B\")\n",
    "        \n",
    "    def feature1(self):\n",
    "        print(\"inside feature1B\")\n",
    "    def feature4(self):\n",
    "        print(\"inside feature4\")\n",
    "\n",
    "\n",
    "\n",
    "class C(A,B):\n",
    "    def __init__(self):\n",
    "        super().__init__()\n",
    "        print(\"init of C\")\n",
    "\n",
    "    def feat(self):\n",
    "        super().feature2()\n",
    "# a1 = A()\n",
    "# a1.feature1()\n",
    "# a1.feature2()\n",
    "\n",
    "# b1 = B()\n",
    "# b1.feature1()\n",
    "# b1.feature2()\n",
    "# b1.feature3()\n",
    "# b1.feature4()\n",
    "\n",
    "c1 = C()\n",
    "c1.feat()\n"
   ]
  },
  {
   "cell_type": "code",
   "execution_count": null,
   "id": "cccae743",
   "metadata": {},
   "outputs": [],
   "source": [
    "# Polymorphism"
   ]
  },
  {
   "cell_type": "code",
   "execution_count": 136,
   "id": "29447bbd",
   "metadata": {},
   "outputs": [],
   "source": [
    "x = 5\n",
    "x = \"prabal\"\n",
    "x = 5.6"
   ]
  },
  {
   "cell_type": "code",
   "execution_count": null,
   "id": "f1c1b541",
   "metadata": {},
   "outputs": [
    {
     "name": "stdout",
     "output_type": "stream",
     "text": [
      "compiling2\n",
      "running2\n",
      "editing2\n",
      "saving2\n"
     ]
    }
   ],
   "source": [
    "class PyCharm:\n",
    "    def execute(self):\n",
    "        print(\"compiling\")\n",
    "        print(\"running\")\n",
    "\n",
    "\n",
    "class Laptop:\n",
    "    def code(self, ide):\n",
    "        ide.execute()\n",
    "\n",
    "\n",
    "\n",
    "class MyEditor:             \n",
    "    def execute(self):\n",
    "        print(\"compiling2\")\n",
    "        print(\"running2\")\n",
    "        print(\"editing2\")\n",
    "        print(\"saving2\")\n",
    "     \n",
    "# pycharm_obj = PyCharm()\n",
    "myeditor_obj = MyEditor()\n",
    "lap1 = Laptop()\n",
    "lap1.code(myeditor_obj)"
   ]
  },
  {
   "cell_type": "code",
   "execution_count": 144,
   "id": "6a0252ea",
   "metadata": {},
   "outputs": [
    {
     "name": "stdout",
     "output_type": "stream",
     "text": [
      "11\n"
     ]
    }
   ],
   "source": [
    "# method overloading \n",
    "\n",
    "class Student:\n",
    "    def __init__(self, m1,m2):\n",
    "        self.m1 = m1    \n",
    "        self.m2 = m2\n",
    "\n",
    "    def sum(self, a = None, b = None, c = None):  # default argument\n",
    "        if a != None and b != None and c != None:\n",
    "            s = a + b + c\n",
    "        elif a != None and b != None:\n",
    "            s = a + b\n",
    "        else:\n",
    "            s = a\n",
    "        return s\n",
    "    \n",
    "s1 = Student(34, 56)\n",
    "print(s1.sum(5, 6))"
   ]
  },
  {
   "cell_type": "code",
   "execution_count": 147,
   "id": "05eaf1e5",
   "metadata": {},
   "outputs": [
    {
     "name": "stdout",
     "output_type": "stream",
     "text": [
      "A show\n"
     ]
    }
   ],
   "source": [
    "# method overriding\n",
    "\n",
    "\n",
    "class A:\n",
    "    def show(self):\n",
    "        print(\"A show\")\n",
    "\n",
    "\n",
    "class B(A):\n",
    "    pass\n",
    "a1 = B()\n",
    "a1.show()"
   ]
  },
  {
   "cell_type": "code",
   "execution_count": 148,
   "id": "310a9fed",
   "metadata": {},
   "outputs": [
    {
     "name": "stdout",
     "output_type": "stream",
     "text": [
      "B show\n"
     ]
    }
   ],
   "source": [
    "# method overriding\n",
    "\n",
    "\n",
    "class A:\n",
    "    def show(self):\n",
    "        print(\"A show\")\n",
    "\n",
    "\n",
    "class B(A):\n",
    "    def show(self):\n",
    "        print(\"B show\")\n",
    "a1 = B()\n",
    "a1.show()"
   ]
  },
  {
   "cell_type": "markdown",
   "id": "b51a66a7",
   "metadata": {},
   "source": [
    "### exceptation handling"
   ]
  },
  {
   "cell_type": "code",
   "execution_count": 158,
   "id": "08e58c99",
   "metadata": {},
   "outputs": [
    {
     "name": "stdout",
     "output_type": "stream",
     "text": [
      "division by zero\n",
      "bye\n"
     ]
    }
   ],
   "source": [
    "a = 5\n",
    "b = 0\n",
    "\n",
    "try:\n",
    "    print(a/b)\n",
    "except ZeroDivisionError as e:\n",
    "    print(e)\n",
    "\n",
    "print(\"bye\")"
   ]
  },
  {
   "cell_type": "code",
   "execution_count": 161,
   "id": "e7f83db4",
   "metadata": {},
   "outputs": [
    {
     "name": "stdout",
     "output_type": "stream",
     "text": [
      "division by zero\n",
      "bye\n"
     ]
    }
   ],
   "source": [
    "a = 5\n",
    "b = 0\n",
    "\n",
    "try:\n",
    "    print(a/b)\n",
    "except Exception as e:\n",
    "    print(e)\n",
    "\n",
    "print(\"bye\")"
   ]
  },
  {
   "cell_type": "code",
   "execution_count": 162,
   "id": "75eb71d0",
   "metadata": {},
   "outputs": [
    {
     "name": "stdout",
     "output_type": "stream",
     "text": [
      "2.5\n",
      "bye\n"
     ]
    }
   ],
   "source": [
    "a = 5\n",
    "b = 2\n",
    "\n",
    "try:\n",
    "    print(a/b)\n",
    "except Exception as e:\n",
    "    print(e)\n",
    "\n",
    "print(\"bye\")"
   ]
  },
  {
   "cell_type": "code",
   "execution_count": 163,
   "id": "f3b3018c",
   "metadata": {},
   "outputs": [
    {
     "name": "stdout",
     "output_type": "stream",
     "text": [
      "resource opened\n",
      "division by zero\n",
      "bye\n"
     ]
    }
   ],
   "source": [
    "a = 5\n",
    "b = 0\n",
    "\n",
    "try:\n",
    "    print(\"resource opened\")\n",
    "    print(a/b)\n",
    "    print(\"resource closed\")\n",
    "except Exception as e:\n",
    "    print(e)\n",
    "\n",
    "print(\"bye\")"
   ]
  },
  {
   "cell_type": "code",
   "execution_count": 164,
   "id": "eb7ab1a2",
   "metadata": {},
   "outputs": [
    {
     "name": "stdout",
     "output_type": "stream",
     "text": [
      "resource opened\n",
      "division by zero\n",
      "resource closed\n",
      "bye\n"
     ]
    }
   ],
   "source": [
    "a = 5\n",
    "b = 0\n",
    "\n",
    "try:\n",
    "    print(\"resource opened\")\n",
    "    print(a/b)\n",
    "except Exception as e:\n",
    "    print(e)\n",
    "    print(\"resource closed\")\n",
    "\n",
    "\n",
    "print(\"bye\")"
   ]
  },
  {
   "cell_type": "code",
   "execution_count": 165,
   "id": "3be06a0e",
   "metadata": {},
   "outputs": [
    {
     "name": "stdout",
     "output_type": "stream",
     "text": [
      "resource opened\n",
      "2.5\n",
      "bye\n"
     ]
    }
   ],
   "source": [
    "a = 5\n",
    "b = 2\n",
    "\n",
    "try:\n",
    "    print(\"resource opened\")\n",
    "    print(a/b)\n",
    "except Exception as e:\n",
    "    print(e)\n",
    "    print(\"resource closed\")\n",
    "\n",
    "\n",
    "print(\"bye\")"
   ]
  },
  {
   "cell_type": "code",
   "execution_count": 166,
   "id": "7c2bc99e",
   "metadata": {},
   "outputs": [
    {
     "name": "stdout",
     "output_type": "stream",
     "text": [
      "resource opened\n",
      "2.5\n",
      "resource closed\n",
      "bye\n"
     ]
    }
   ],
   "source": [
    "a = 5\n",
    "b = 2\n",
    "\n",
    "try:\n",
    "    print(\"resource opened\")\n",
    "    print(a/b)\n",
    "except Exception as e:\n",
    "    print(e)\n",
    "finally:\n",
    "    print(\"resource closed\")\n",
    "    # finally block will always execute\n",
    "\n",
    "print(\"bye\")"
   ]
  },
  {
   "cell_type": "code",
   "execution_count": 167,
   "id": "7ed3d548",
   "metadata": {},
   "outputs": [
    {
     "name": "stdout",
     "output_type": "stream",
     "text": [
      "resource opened\n",
      "division by zero\n",
      "resource closed\n",
      "bye\n"
     ]
    }
   ],
   "source": [
    "a = 5\n",
    "b = 0\n",
    "\n",
    "try:\n",
    "    print(\"resource opened\")\n",
    "    print(a/b)\n",
    "except Exception as e:\n",
    "    print(e)\n",
    "finally:\n",
    "    print(\"resource closed\")\n",
    "    # finally block will always execute\n",
    "\n",
    "print(\"bye\")"
   ]
  },
  {
   "cell_type": "code",
   "execution_count": null,
   "id": "623fa61f",
   "metadata": {},
   "outputs": [],
   "source": []
  }
 ],
 "metadata": {
  "kernelspec": {
   "display_name": "base",
   "language": "python",
   "name": "python3"
  },
  "language_info": {
   "codemirror_mode": {
    "name": "ipython",
    "version": 3
   },
   "file_extension": ".py",
   "mimetype": "text/x-python",
   "name": "python",
   "nbconvert_exporter": "python",
   "pygments_lexer": "ipython3",
   "version": "3.11.5"
  }
 },
 "nbformat": 4,
 "nbformat_minor": 5
}
