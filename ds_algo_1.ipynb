{
 "cells": [
  {
   "cell_type": "code",
   "execution_count": null,
   "metadata": {},
   "outputs": [],
   "source": []
  },
  {
   "cell_type": "markdown",
   "metadata": {},
   "source": [
    "**QUESTION 1: Alice has some cards with numbers written on them. She arranges the cards in decreasing order, and lays them out face down in a sequence on a table. She challenges Bob to pick out the card containing a given number by turning over as few cards as possible. Write a function to help Bob locate the card.**"
   ]
  },
  {
   "cell_type": "markdown",
   "metadata": {},
   "source": [
    "Our function should be able to handle any set of valid inputs we pass into it. Here's a list of some possible variations we might encounter:\n",
    "\n",
    "1. The number `query` occurs somewhere in the middle of the list `cards`.\n",
    "2. `query` is the first element in `cards`.\n",
    "3. `query` is the last element in `cards`.\n",
    "4. The list `cards` contains just one element, which is `query`.\n",
    "5. The list `cards` does not contain number `query`.\n",
    "6. The list `cards` is empty.\n",
    "7. The list `cards` contains repeating numbers.\n",
    "8. The number `query` occurs at more than one position in `cards`.\n"
   ]
  },
  {
   "cell_type": "code",
   "execution_count": null,
   "metadata": {},
   "outputs": [],
   "source": []
  },
  {
   "cell_type": "markdown",
   "metadata": {},
   "source": [
    "Write different test cases for the problem"
   ]
  },
  {
   "cell_type": "code",
   "execution_count": 52,
   "metadata": {},
   "outputs": [],
   "source": [
    "tests = []"
   ]
  },
  {
   "cell_type": "code",
   "execution_count": 53,
   "metadata": {},
   "outputs": [],
   "source": [
    "test0 = { 'input': {\n",
    "    'cards': [13,12,11,7,4,3,1,0],\n",
    "    'query' : 7\n",
    "        },\n",
    "        'output': 3}\n",
    "\n",
    "tests.append(test0)"
   ]
  },
  {
   "cell_type": "code",
   "execution_count": 54,
   "metadata": {},
   "outputs": [],
   "source": [
    "test1 = { 'input': {\n",
    "    'cards': [13,12,11,7,4,3,1,0],\n",
    "    'query' : 1\n",
    "        },\n",
    "        'output': 6}\n",
    "\n",
    "tests.append(test1)"
   ]
  },
  {
   "cell_type": "code",
   "execution_count": 55,
   "metadata": {},
   "outputs": [],
   "source": [
    "test2 = { 'input': {\n",
    "    'cards': [4, 2, 1, -1],\n",
    "    'query' : 4        },\n",
    "        'output': 0}\n",
    "\n",
    "tests.append(test2)"
   ]
  },
  {
   "cell_type": "code",
   "execution_count": 56,
   "metadata": {},
   "outputs": [],
   "source": [
    "test3 = { 'input': {\n",
    "    'cards': [3, -1, -9, -127],\n",
    "    'query' : -127\n",
    "        },\n",
    "        'output': 3}\n",
    "\n",
    "tests.append(test3)"
   ]
  },
  {
   "cell_type": "code",
   "execution_count": 57,
   "metadata": {},
   "outputs": [],
   "source": [
    "# cards contains just one element, query\n",
    "test4 = {\n",
    "    'input': {\n",
    "        'cards': [6],\n",
    "        'query': 6\n",
    "    },\n",
    "    'output': 0 \n",
    "}\n",
    "tests.append(test4)"
   ]
  },
  {
   "cell_type": "code",
   "execution_count": 58,
   "metadata": {},
   "outputs": [],
   "source": [
    "# cards does not contain query \n",
    "test5 = {\n",
    "    'input': {\n",
    "        'cards': [9, 7, 5, 2, -9],\n",
    "        'query': 4\n",
    "    },\n",
    "    'output': -1\n",
    "}\n",
    "\n",
    "tests.append(test5)\n"
   ]
  },
  {
   "cell_type": "code",
   "execution_count": 59,
   "metadata": {},
   "outputs": [],
   "source": [
    "# cards is empty\n",
    "test6 ={\n",
    "    'input': {\n",
    "        'cards': [],\n",
    "        'query': 7\n",
    "    },\n",
    "    'output': -1\n",
    "}\n",
    "tests.append(test6)\n"
   ]
  },
  {
   "cell_type": "code",
   "execution_count": 60,
   "metadata": {},
   "outputs": [],
   "source": [
    "# query occurs multiple times\n",
    "test7 = ({\n",
    "    'input': {\n",
    "        'cards': [8, 8, 6, 6, 6, 6, 6, 6, 3, 2, 2, 2, 0, 0, 0],\n",
    "        'query': 6\n",
    "    },\n",
    "    'output': 2\n",
    "})\n",
    "\n",
    "tests.append(test7)\n"
   ]
  },
  {
   "cell_type": "code",
   "execution_count": 61,
   "metadata": {},
   "outputs": [
    {
     "data": {
      "text/plain": [
       "[{'input': {'cards': [13, 12, 11, 7, 4, 3, 1, 0], 'query': 7}, 'output': 3},\n",
       " {'input': {'cards': [13, 12, 11, 7, 4, 3, 1, 0], 'query': 1}, 'output': 6},\n",
       " {'input': {'cards': [4, 2, 1, -1], 'query': 4}, 'output': 0},\n",
       " {'input': {'cards': [3, -1, -9, -127], 'query': -127}, 'output': 3},\n",
       " {'input': {'cards': [6], 'query': 6}, 'output': 0},\n",
       " {'input': {'cards': [9, 7, 5, 2, -9], 'query': 4}, 'output': -1},\n",
       " {'input': {'cards': [], 'query': 7}, 'output': -1},\n",
       " {'input': {'cards': [8, 8, 6, 6, 6, 6, 6, 6, 3, 2, 2, 2, 0, 0, 0],\n",
       "   'query': 6},\n",
       "  'output': 2}]"
      ]
     },
     "execution_count": 61,
     "metadata": {},
     "output_type": "execute_result"
    }
   ],
   "source": [
    "tests"
   ]
  },
  {
   "cell_type": "code",
   "execution_count": 11,
   "metadata": {},
   "outputs": [],
   "source": [
    "class Card_Position():\n",
    "    def __init__(self) -> None:\n",
    "        pass\n",
    "    def locate_card(self,cards, query):\n",
    "        position = 0\n",
    "\n",
    "        while True:\n",
    "            if cards[position] == query:\n",
    "                return position\n",
    "            position += 1\n",
    "\n",
    "            if position == len(cards):\n",
    "                return -1\n",
    "            "
   ]
  },
  {
   "cell_type": "code",
   "execution_count": 12,
   "metadata": {},
   "outputs": [
    {
     "data": {
      "text/plain": [
       "{'input': {'cards': [13, 12, 11, 7, 4, 3, 1, 0], 'query': 7}, 'output': 3}"
      ]
     },
     "execution_count": 12,
     "metadata": {},
     "output_type": "execute_result"
    }
   ],
   "source": [
    "test0"
   ]
  },
  {
   "cell_type": "code",
   "execution_count": 13,
   "metadata": {},
   "outputs": [
    {
     "data": {
      "text/plain": [
       "[13, 12, 11, 7, 4, 3, 1, 0]"
      ]
     },
     "execution_count": 13,
     "metadata": {},
     "output_type": "execute_result"
    }
   ],
   "source": [
    "test0['input']['cards']"
   ]
  },
  {
   "cell_type": "code",
   "execution_count": 14,
   "metadata": {},
   "outputs": [
    {
     "data": {
      "text/plain": [
       "7"
      ]
     },
     "execution_count": 14,
     "metadata": {},
     "output_type": "execute_result"
    }
   ],
   "source": [
    "test0['input']['query']"
   ]
  },
  {
   "cell_type": "code",
   "execution_count": 15,
   "metadata": {},
   "outputs": [],
   "source": [
    "obj1 = Card_Position()"
   ]
  },
  {
   "cell_type": "code",
   "execution_count": 16,
   "metadata": {},
   "outputs": [],
   "source": [
    "result = obj1.locate_card(test0['input']['cards'],test0['input']['query'])"
   ]
  },
  {
   "cell_type": "code",
   "execution_count": 17,
   "metadata": {},
   "outputs": [
    {
     "data": {
      "text/plain": [
       "True"
      ]
     },
     "execution_count": 17,
     "metadata": {},
     "output_type": "execute_result"
    }
   ],
   "source": [
    "result == test0['output']"
   ]
  },
  {
   "cell_type": "code",
   "execution_count": 18,
   "metadata": {},
   "outputs": [
    {
     "name": "stdout",
     "output_type": "stream",
     "text": [
      "test  0  :  True\n",
      "test  1  :  True\n",
      "test  2  :  True\n",
      "test  3  :  True\n",
      "test  4  :  True\n",
      "test  5  :  True\n"
     ]
    },
    {
     "ename": "IndexError",
     "evalue": "list index out of range",
     "output_type": "error",
     "traceback": [
      "\u001b[1;31m---------------------------------------------------------------------------\u001b[0m",
      "\u001b[1;31mIndexError\u001b[0m                                Traceback (most recent call last)",
      "Cell \u001b[1;32mIn[18], line 3\u001b[0m\n\u001b[0;32m      1\u001b[0m i \u001b[38;5;241m=\u001b[39m \u001b[38;5;241m0\u001b[39m\n\u001b[0;32m      2\u001b[0m \u001b[38;5;28;01mfor\u001b[39;00m test \u001b[38;5;129;01min\u001b[39;00m tests:\n\u001b[1;32m----> 3\u001b[0m     \u001b[38;5;28mprint\u001b[39m(\u001b[38;5;124m\"\u001b[39m\u001b[38;5;124mtest \u001b[39m\u001b[38;5;124m\"\u001b[39m,i, \u001b[38;5;124m\"\u001b[39m\u001b[38;5;124m : \u001b[39m\u001b[38;5;124m\"\u001b[39m,obj1\u001b[38;5;241m.\u001b[39mlocate_card(\u001b[38;5;241m*\u001b[39m\u001b[38;5;241m*\u001b[39mtest[\u001b[38;5;124m'\u001b[39m\u001b[38;5;124minput\u001b[39m\u001b[38;5;124m'\u001b[39m]) \u001b[38;5;241m==\u001b[39m test[\u001b[38;5;124m\"\u001b[39m\u001b[38;5;124moutput\u001b[39m\u001b[38;5;124m\"\u001b[39m])\n\u001b[0;32m      4\u001b[0m     i \u001b[38;5;241m+\u001b[39m\u001b[38;5;241m=\u001b[39m\u001b[38;5;241m1\u001b[39m\n",
      "Cell \u001b[1;32mIn[11], line 8\u001b[0m, in \u001b[0;36mCard_Position.locate_card\u001b[1;34m(self, cards, query)\u001b[0m\n\u001b[0;32m      5\u001b[0m position \u001b[38;5;241m=\u001b[39m \u001b[38;5;241m0\u001b[39m\n\u001b[0;32m      7\u001b[0m \u001b[38;5;28;01mwhile\u001b[39;00m \u001b[38;5;28;01mTrue\u001b[39;00m:\n\u001b[1;32m----> 8\u001b[0m     \u001b[38;5;28;01mif\u001b[39;00m cards[position] \u001b[38;5;241m==\u001b[39m query:\n\u001b[0;32m      9\u001b[0m         \u001b[38;5;28;01mreturn\u001b[39;00m position\n\u001b[0;32m     10\u001b[0m     position \u001b[38;5;241m+\u001b[39m\u001b[38;5;241m=\u001b[39m \u001b[38;5;241m1\u001b[39m\n",
      "\u001b[1;31mIndexError\u001b[0m: list index out of range"
     ]
    }
   ],
   "source": [
    "i = 0\n",
    "for test in tests:\n",
    "    print(\"test \",i, \" : \",obj1.locate_card(**test['input']) == test[\"output\"])\n",
    "    i +=1"
   ]
  },
  {
   "cell_type": "code",
   "execution_count": null,
   "metadata": {},
   "outputs": [],
   "source": []
  },
  {
   "cell_type": "markdown",
   "metadata": {},
   "source": [
    "# Linear search"
   ]
  },
  {
   "cell_type": "code",
   "execution_count": 19,
   "metadata": {},
   "outputs": [],
   "source": [
    "class Card_Position():\n",
    "    def __init__(self) -> None:\n",
    "        pass\n",
    "    def locate_card(self,cards, query):\n",
    "        position = 0\n",
    "\n",
    "        while position < len(cards) :\n",
    "            if cards[position] == query:\n",
    "                return position\n",
    "            position += 1\n",
    "        return -1\n",
    "            "
   ]
  },
  {
   "cell_type": "code",
   "execution_count": 20,
   "metadata": {},
   "outputs": [],
   "source": [
    "obj1 = Card_Position()\n"
   ]
  },
  {
   "cell_type": "code",
   "execution_count": 21,
   "metadata": {},
   "outputs": [
    {
     "name": "stdout",
     "output_type": "stream",
     "text": [
      "test  0  :  True\n",
      "test  1  :  True\n",
      "test  2  :  True\n",
      "test  3  :  True\n",
      "test  4  :  True\n",
      "test  5  :  True\n",
      "test  6  :  True\n",
      "test  7  :  True\n"
     ]
    }
   ],
   "source": [
    "i = 0\n",
    "for test in tests:\n",
    "    print(\"test \",i, \" : \",obj1.locate_card(**test['input']) == test[\"output\"])\n",
    "    i +=1"
   ]
  },
  {
   "cell_type": "markdown",
   "metadata": {},
   "source": [
    "Worst case complexity \n",
    "- Linear search\n",
    "- Time complexity of this code is **O(n)**\n",
    "- Space complexity = **O(1)**"
   ]
  },
  {
   "cell_type": "code",
   "execution_count": null,
   "metadata": {},
   "outputs": [],
   "source": []
  },
  {
   "cell_type": "markdown",
   "metadata": {},
   "source": [
    "**Binary search**"
   ]
  },
  {
   "cell_type": "markdown",
   "metadata": {},
   "source": [
    "### 6. Apply the right technique to overcome the inefficiency. Repeat steps 3 to 6.\n",
    "\n",
    "At the moment, we're simply going over cards one by one, and not even utilizing the face that they're sorted. This is called a *brute force* approach.\n",
    "\n",
    "It would be great if Bob could somehow guess the card at the first attempt, but with all the cards turned over it's simply impossible to guess the right card. \n",
    "\n",
    "\n",
    "<img src=\"https://i.imgur.com/mazym6s.png\" width=\"480\">\n",
    "\n",
    "The next best idea would be to pick a random card, and use the fact that the list is sorted, to determine whether the target card lies to the left or right of it. In fact, if we pick the middle card, we can reduce the number of additional cards to be tested to half the size of the list. Then, we can simply repeat the process with each half. This technique is called binary search. Here's a visual explanation of the technique:\n",
    "\n",
    "\n",
    "\n",
    "<img src=\"https://miro.medium.com/max/494/1*3eOrsoF9idyOp-0Ll9I9PA.png\" width=\"480\">\n",
    "\n",
    "\n"
   ]
  },
  {
   "cell_type": "markdown",
   "metadata": {},
   "source": [
    "### 7. Come up with a correct solution for the problem. State it in plain English.\n",
    "\n",
    "Here's how binary search can be applied to our problem:\n",
    "\n",
    "1. Find the middle element of the list.\n",
    "2. If it matches queried number, return the middle position as the answer.\n",
    "3. If it is less than the queried number, then search the first half of the list\n",
    "3. If it is greater than the queried number, then search the second half of the list\n",
    "4. If no more elements remain, return -1.\n",
    "\n"
   ]
  },
  {
   "cell_type": "code",
   "execution_count": null,
   "metadata": {},
   "outputs": [],
   "source": []
  },
  {
   "cell_type": "code",
   "execution_count": 52,
   "metadata": {},
   "outputs": [],
   "source": [
    "def locate_card(cards, query):\n",
    "    lo,high = 0, len(cards)-1\n",
    "    while lo <= high:\n",
    "        mid_pos = (lo+high)//2\n",
    "        mid_num = cards[mid_pos]\n",
    "        print(\"low:\",lo,\" high:\",high,\" mid_pos:\",mid_pos,\" mid_num:\",mid_num)\n",
    "        if mid_num == query:\n",
    "            return mid_pos\n",
    "        elif mid_num < query:\n",
    "            high = mid_pos-1\n",
    "        elif mid_num > query:\n",
    "            lo = mid_pos+1\n",
    "    return -1\n",
    "    "
   ]
  },
  {
   "cell_type": "code",
   "execution_count": 53,
   "metadata": {},
   "outputs": [
    {
     "data": {
      "text/plain": [
       "{'input': {'cards': [3, -1, -9, -127], 'query': -127}, 'output': 3}"
      ]
     },
     "execution_count": 53,
     "metadata": {},
     "output_type": "execute_result"
    }
   ],
   "source": [
    "test3"
   ]
  },
  {
   "cell_type": "code",
   "execution_count": 54,
   "metadata": {},
   "outputs": [
    {
     "name": "stdout",
     "output_type": "stream",
     "text": [
      "low: 0  high: 3  mid_pos: 1  mid_num: -1\n",
      "low: 2  high: 3  mid_pos: 2  mid_num: -9\n",
      "low: 3  high: 3  mid_pos: 3  mid_num: -127\n"
     ]
    },
    {
     "data": {
      "text/plain": [
       "3"
      ]
     },
     "execution_count": 54,
     "metadata": {},
     "output_type": "execute_result"
    }
   ],
   "source": [
    "locate_card(test3['input']['cards'],test3['input']['query'])"
   ]
  },
  {
   "cell_type": "code",
   "execution_count": null,
   "metadata": {},
   "outputs": [],
   "source": []
  },
  {
   "cell_type": "code",
   "execution_count": 55,
   "metadata": {},
   "outputs": [
    {
     "name": "stdout",
     "output_type": "stream",
     "text": [
      "low: 0  high: 3  mid_pos: 1  mid_num: -1\n",
      "low: 2  high: 3  mid_pos: 2  mid_num: -9\n",
      "low: 3  high: 3  mid_pos: 3  mid_num: -127\n"
     ]
    },
    {
     "data": {
      "text/plain": [
       "3"
      ]
     },
     "execution_count": 55,
     "metadata": {},
     "output_type": "execute_result"
    }
   ],
   "source": [
    "locate_card(test3['input']['cards'],test3['input']['query'])"
   ]
  },
  {
   "cell_type": "code",
   "execution_count": 56,
   "metadata": {},
   "outputs": [
    {
     "name": "stdout",
     "output_type": "stream",
     "text": [
      "low: 0  high: 7  mid_pos: 3  mid_num: 7\n",
      "test  0  :  True\n",
      "low: 0  high: 7  mid_pos: 3  mid_num: 7\n",
      "low: 4  high: 7  mid_pos: 5  mid_num: 3\n",
      "low: 6  high: 7  mid_pos: 6  mid_num: 1\n",
      "test  1  :  True\n",
      "low: 0  high: 3  mid_pos: 1  mid_num: 2\n",
      "low: 0  high: 0  mid_pos: 0  mid_num: 4\n",
      "test  2  :  True\n",
      "low: 0  high: 3  mid_pos: 1  mid_num: -1\n",
      "low: 2  high: 3  mid_pos: 2  mid_num: -9\n",
      "low: 3  high: 3  mid_pos: 3  mid_num: -127\n",
      "test  3  :  True\n",
      "low: 0  high: 0  mid_pos: 0  mid_num: 6\n",
      "test  4  :  True\n",
      "low: 0  high: 4  mid_pos: 2  mid_num: 5\n",
      "low: 3  high: 4  mid_pos: 3  mid_num: 2\n",
      "test  5  :  True\n",
      "test  6  :  True\n",
      "low: 0  high: 14  mid_pos: 7  mid_num: 6\n",
      "test  7  :  False\n"
     ]
    }
   ],
   "source": [
    "i = 0\n",
    "for test in tests:\n",
    "    print(\"test \",i, \" : \",locate_card(**test['input']) == test[\"output\"])\n",
    "    i +=1"
   ]
  },
  {
   "cell_type": "code",
   "execution_count": null,
   "metadata": {},
   "outputs": [],
   "source": []
  },
  {
   "cell_type": "code",
   "execution_count": null,
   "metadata": {},
   "outputs": [],
   "source": []
  },
  {
   "cell_type": "markdown",
   "metadata": {},
   "source": [
    "# method 1"
   ]
  },
  {
   "cell_type": "code",
   "execution_count": 62,
   "metadata": {},
   "outputs": [],
   "source": [
    "def locate_card(cards, query):\n",
    "    lo,high = 0, len(cards)-1\n",
    "    while lo <= high:\n",
    "        mid_pos = (lo+high)//2\n",
    "        mid_num = cards[mid_pos]\n",
    "        print(\"low:\",lo,\" high:\",high,\" mid_pos:\",mid_pos,\" mid_num:\",mid_num)\n",
    "        if mid_num == query:\n",
    "            if mid_pos-1 >=0:\n",
    "                while cards[mid_pos-1] == mid_num:\n",
    "                    mid_pos = mid_pos-1\n",
    "            return mid_pos\n",
    "        elif mid_num < query:\n",
    "            high = mid_pos-1\n",
    "        elif mid_num > query:\n",
    "            lo = mid_pos+1\n",
    "    return -1    "
   ]
  },
  {
   "cell_type": "code",
   "execution_count": 63,
   "metadata": {},
   "outputs": [
    {
     "data": {
      "text/plain": [
       "{'input': {'cards': [6], 'query': 6}, 'output': 0}"
      ]
     },
     "execution_count": 63,
     "metadata": {},
     "output_type": "execute_result"
    }
   ],
   "source": [
    "test4"
   ]
  },
  {
   "cell_type": "code",
   "execution_count": 64,
   "metadata": {},
   "outputs": [
    {
     "name": "stdout",
     "output_type": "stream",
     "text": [
      "low: 0  high: 0  mid_pos: 0  mid_num: 6\n"
     ]
    },
    {
     "data": {
      "text/plain": [
       "0"
      ]
     },
     "execution_count": 64,
     "metadata": {},
     "output_type": "execute_result"
    }
   ],
   "source": [
    "locate_card(test4['input']['cards'],test4['input']['query'])"
   ]
  },
  {
   "cell_type": "code",
   "execution_count": 65,
   "metadata": {},
   "outputs": [
    {
     "name": "stdout",
     "output_type": "stream",
     "text": [
      "low: 0  high: 7  mid_pos: 3  mid_num: 7\n",
      "test  0  :  True\n",
      "\n",
      "low: 0  high: 7  mid_pos: 3  mid_num: 7\n",
      "low: 4  high: 7  mid_pos: 5  mid_num: 3\n",
      "low: 6  high: 7  mid_pos: 6  mid_num: 1\n",
      "test  1  :  True\n",
      "\n",
      "low: 0  high: 3  mid_pos: 1  mid_num: 2\n",
      "low: 0  high: 0  mid_pos: 0  mid_num: 4\n",
      "test  2  :  True\n",
      "\n",
      "low: 0  high: 3  mid_pos: 1  mid_num: -1\n",
      "low: 2  high: 3  mid_pos: 2  mid_num: -9\n",
      "low: 3  high: 3  mid_pos: 3  mid_num: -127\n",
      "test  3  :  True\n",
      "\n",
      "low: 0  high: 0  mid_pos: 0  mid_num: 6\n",
      "test  4  :  True\n",
      "\n",
      "low: 0  high: 4  mid_pos: 2  mid_num: 5\n",
      "low: 3  high: 4  mid_pos: 3  mid_num: 2\n",
      "test  5  :  True\n",
      "\n",
      "test  6  :  True\n",
      "\n",
      "low: 0  high: 14  mid_pos: 7  mid_num: 6\n",
      "test  7  :  True\n",
      "\n"
     ]
    }
   ],
   "source": [
    "i = 0\n",
    "for test in tests:\n",
    "    print(\"test \",i, \" : \",locate_card(**test['input']) == test[\"output\"])\n",
    "    print()\n",
    "\n",
    "    i +=1"
   ]
  },
  {
   "cell_type": "code",
   "execution_count": null,
   "metadata": {},
   "outputs": [],
   "source": []
  },
  {
   "cell_type": "markdown",
   "metadata": {},
   "source": [
    "# method 2"
   ]
  },
  {
   "cell_type": "code",
   "execution_count": 66,
   "metadata": {},
   "outputs": [],
   "source": [
    "def test_location(cards, query, mid_pos):\n",
    "    mid_num = cards[mid_pos]\n",
    "    print(\"mid:\", mid_pos, \", mid_number:\", mid_num)\n",
    "    if mid_num ==  query:\n",
    "        if mid_pos-1 >=0 and cards[mid_pos-1] == query:\n",
    "            return \"left\"\n",
    "        else:\n",
    "            return \"found\"\n",
    "    elif mid_num < query:\n",
    "        return \"left\"\n",
    "    else:\n",
    "        return \"right\"\n",
    "\n"
   ]
  },
  {
   "cell_type": "code",
   "execution_count": 67,
   "metadata": {},
   "outputs": [],
   "source": [
    "def locate_card(cards, query):\n",
    "    lo,high = 0, len(cards)-1\n",
    "    while lo <= high:\n",
    "        print(\"lo:\", lo, \", hi:\", high)\n",
    "        mid_pos = (lo+high)//2\n",
    "        result = test_location(cards, query, mid_pos)\n",
    "        if result == \"found\":\n",
    "            return mid_pos\n",
    "        elif result == \"left\":\n",
    "            high = mid_pos-1\n",
    "        elif result == \"right\":\n",
    "            lo = mid_pos+1\n",
    "    return -1    "
   ]
  },
  {
   "cell_type": "code",
   "execution_count": 68,
   "metadata": {},
   "outputs": [
    {
     "data": {
      "text/plain": [
       "[{'input': {'cards': [13, 12, 11, 7, 4, 3, 1, 0], 'query': 7}, 'output': 3},\n",
       " {'input': {'cards': [13, 12, 11, 7, 4, 3, 1, 0], 'query': 1}, 'output': 6},\n",
       " {'input': {'cards': [4, 2, 1, -1], 'query': 4}, 'output': 0},\n",
       " {'input': {'cards': [3, -1, -9, -127], 'query': -127}, 'output': 3},\n",
       " {'input': {'cards': [6], 'query': 6}, 'output': 0},\n",
       " {'input': {'cards': [9, 7, 5, 2, -9], 'query': 4}, 'output': -1},\n",
       " {'input': {'cards': [], 'query': 7}, 'output': -1},\n",
       " {'input': {'cards': [8, 8, 6, 6, 6, 6, 6, 6, 3, 2, 2, 2, 0, 0, 0],\n",
       "   'query': 6},\n",
       "  'output': 2}]"
      ]
     },
     "execution_count": 68,
     "metadata": {},
     "output_type": "execute_result"
    }
   ],
   "source": [
    "tests"
   ]
  },
  {
   "cell_type": "code",
   "execution_count": 69,
   "metadata": {},
   "outputs": [
    {
     "name": "stdout",
     "output_type": "stream",
     "text": [
      "lo: 0 , hi: 7\n",
      "mid: 3 , mid_number: 7\n",
      "test  0  :  True\n",
      "\n",
      "lo: 0 , hi: 7\n",
      "mid: 3 , mid_number: 7\n",
      "lo: 4 , hi: 7\n",
      "mid: 5 , mid_number: 3\n",
      "lo: 6 , hi: 7\n",
      "mid: 6 , mid_number: 1\n",
      "test  1  :  True\n",
      "\n",
      "lo: 0 , hi: 3\n",
      "mid: 1 , mid_number: 2\n",
      "lo: 0 , hi: 0\n",
      "mid: 0 , mid_number: 4\n",
      "test  2  :  True\n",
      "\n",
      "lo: 0 , hi: 3\n",
      "mid: 1 , mid_number: -1\n",
      "lo: 2 , hi: 3\n",
      "mid: 2 , mid_number: -9\n",
      "lo: 3 , hi: 3\n",
      "mid: 3 , mid_number: -127\n",
      "test  3  :  True\n",
      "\n",
      "lo: 0 , hi: 0\n",
      "mid: 0 , mid_number: 6\n",
      "test  4  :  True\n",
      "\n",
      "lo: 0 , hi: 4\n",
      "mid: 2 , mid_number: 5\n",
      "lo: 3 , hi: 4\n",
      "mid: 3 , mid_number: 2\n",
      "test  5  :  True\n",
      "\n",
      "test  6  :  True\n",
      "\n",
      "lo: 0 , hi: 14\n",
      "mid: 7 , mid_number: 6\n",
      "lo: 0 , hi: 6\n",
      "mid: 3 , mid_number: 6\n",
      "lo: 0 , hi: 2\n",
      "mid: 1 , mid_number: 8\n",
      "lo: 2 , hi: 2\n",
      "mid: 2 , mid_number: 6\n",
      "test  7  :  True\n",
      "\n"
     ]
    }
   ],
   "source": [
    "i = 0\n",
    "for test in tests:\n",
    "    print(\"test \",i, \" : \",locate_card(**test['input']) == test[\"output\"])\n",
    "    print()\n",
    "\n",
    "    i +=1"
   ]
  },
  {
   "cell_type": "markdown",
   "metadata": {},
   "source": [
    "initial length = N\n",
    "\n",
    "iteration1 = N/2\n",
    "\n",
    "iteration2 = N/4 \n",
    "\n",
    "iteration3 = N/8\n",
    "\n",
    "iteration4 = N/16\n",
    "\n",
    "iteration_k = N/2^k\n",
    "\n",
    "\n",
    "N/2^k = 1\n",
    "k = log N\n",
    "- Time complexity O(log N)\n",
    "- space complexity O(1)"
   ]
  },
  {
   "cell_type": "code",
   "execution_count": null,
   "metadata": {},
   "outputs": [],
   "source": []
  },
  {
   "cell_type": "markdown",
   "metadata": {},
   "source": [
    "binary_search"
   ]
  },
  {
   "cell_type": "code",
   "execution_count": 73,
   "metadata": {},
   "outputs": [],
   "source": [
    "def binary_search(lo, hi, condition):\n",
    "    \"\"\"TODO - add docs\"\"\"\n",
    "    while lo <= hi:\n",
    "        mid = (lo + hi) // 2\n",
    "        result = condition(mid)\n",
    "        if result == 'found':\n",
    "            return mid\n",
    "        elif result == 'left':\n",
    "            hi = mid - 1\n",
    "        else:\n",
    "            lo = mid + 1\n",
    "    return -1"
   ]
  },
  {
   "cell_type": "code",
   "execution_count": 74,
   "metadata": {},
   "outputs": [],
   "source": [
    "def locate_card1(cards, query):\n",
    "    \n",
    "    def condition(mid):\n",
    "        if cards[mid] == query:\n",
    "            if mid > 0 and cards[mid-1] == query:\n",
    "                return 'left'\n",
    "            else:\n",
    "                return 'found'\n",
    "        elif cards[mid] < query:\n",
    "            return 'left'\n",
    "        else:\n",
    "            return 'right'\n",
    "    \n",
    "    return binary_search(0, len(cards) - 1, condition)"
   ]
  },
  {
   "cell_type": "code",
   "execution_count": 75,
   "metadata": {},
   "outputs": [
    {
     "name": "stdout",
     "output_type": "stream",
     "text": [
      "test  0  :  True\n",
      "\n",
      "test  1  :  True\n",
      "\n",
      "test  2  :  True\n",
      "\n",
      "test  3  :  True\n",
      "\n",
      "test  4  :  True\n",
      "\n",
      "test  5  :  True\n",
      "\n",
      "test  6  :  True\n",
      "\n",
      "test  7  :  True\n",
      "\n"
     ]
    }
   ],
   "source": [
    "i = 0\n",
    "for test in tests:\n",
    "    print(\"test \",i, \" : \",locate_card1(**test['input']) == test[\"output\"])\n",
    "    print()\n",
    "\n",
    "    i +=1"
   ]
  },
  {
   "cell_type": "code",
   "execution_count": null,
   "metadata": {},
   "outputs": [],
   "source": []
  },
  {
   "cell_type": "markdown",
   "metadata": {},
   "source": [
    "The `binary_search` function can now be used to solve other problems too. It is a tested piece of logic.\n",
    "\n",
    "\n",
    "> **Question**: Given an array of integers nums sorted in ascending order, find the starting and ending position of a given number. \n",
    "\n",
    "This differs from the problem in only two significant ways:\n",
    "\n",
    "1. The numbers are sorted in increasing order.\n",
    "2. We are looking for both the increasing order and the decreasing order.\n",
    "\n",
    "Here's the full code for solving the question, obtained by making minor modifications to our previous function:"
   ]
  },
  {
   "cell_type": "code",
   "execution_count": 76,
   "metadata": {},
   "outputs": [],
   "source": [
    "def binary_search(lo, hi, condition):\n",
    "    \"\"\"TODO - add docs\"\"\"\n",
    "    while lo <= hi:\n",
    "        mid = (lo + hi) // 2\n",
    "        result = condition(mid)\n",
    "        if result == 'found':\n",
    "            return mid\n",
    "        elif result == 'left':\n",
    "            hi = mid - 1\n",
    "        else:\n",
    "            lo = mid + 1\n",
    "    return -1"
   ]
  },
  {
   "cell_type": "code",
   "execution_count": 77,
   "metadata": {},
   "outputs": [],
   "source": [
    "def first_position(nums, target):\n",
    "    def condition(mid):\n",
    "        if nums[mid] == target:\n",
    "            if mid > 0 and nums[mid-1] == target:\n",
    "                return 'left'\n",
    "            return 'found'\n",
    "        elif nums[mid] < target:\n",
    "            return 'right'\n",
    "        else:\n",
    "            return 'left'\n",
    "    return binary_search(0, len(nums)-1, condition)\n",
    "\n",
    "def last_position(nums, target):\n",
    "    def condition(mid):\n",
    "        if nums[mid] == target:\n",
    "            if mid < len(nums)-1 and nums[mid+1] == target:\n",
    "                return 'right'\n",
    "            return 'found'\n",
    "        elif nums[mid] < target:\n",
    "            return 'right'\n",
    "        else:\n",
    "            return 'left'\n",
    "    return binary_search(0, len(nums)-1, condition)\n",
    "\n",
    "def first_and_last_position(nums, target):\n",
    "    return first_position(nums, target), last_position(nums, target)"
   ]
  },
  {
   "cell_type": "code",
   "execution_count": 83,
   "metadata": {},
   "outputs": [
    {
     "data": {
      "text/plain": [
       "(7, 12)"
      ]
     },
     "execution_count": 83,
     "metadata": {},
     "output_type": "execute_result"
    }
   ],
   "source": [
    "first_and_last_position([2,2,4,6,6,6,7,10,10,10,10,10,10,15,18],10)"
   ]
  },
  {
   "cell_type": "markdown",
   "metadata": {},
   "source": [
    "time complexity is 2*log(N) = O(log N)"
   ]
  },
  {
   "cell_type": "code",
   "execution_count": null,
   "metadata": {},
   "outputs": [],
   "source": []
  },
  {
   "cell_type": "code",
   "execution_count": null,
   "metadata": {},
   "outputs": [],
   "source": []
  },
  {
   "cell_type": "code",
   "execution_count": null,
   "metadata": {},
   "outputs": [],
   "source": []
  },
  {
   "cell_type": "markdown",
   "metadata": {},
   "source": [
    "# Assignment 1 - Binary Search Practice\n",
    "\n",
    "_This assignment is a part of the course [\"Data Structures and Algorithms in Python\"](https://jovian.ai/learn/data-structures-and-algorithms-in-python)._\n",
    "\n",
    "In this assignment, you'll get to practice some of the concepts and skills covered in the following notebooks:\n",
    "\n",
    "1. [Binary Search and Complexity Analysis](https://jovian.ai/aakashns/python-binary-search)\n",
    "3. [Solving Programming Problems Systematically](https://jovian.ai/aakashns/python-problem-solving-template)\n",
    "\n",
    "As you go through this notebook, you will find a **???** in certain places. To complete this assignment, you must replace all the **???** with appropriate values, expressions or statements to ensure that the notebook runs properly end-to-end. \n",
    "\n",
    "Some things to keep in mind:\n",
    "\n",
    "* Make sure to run all the code cells, otherwise you may get errors like `NameError` for undefined variables.\n",
    "* Do not change variable names, delete cells or disturb other existing code. It may cause problems during evaluation.\n",
    "* In some cases, you may need to add some code cells or new statements before or after the line of code containing the **???**. \n",
    "* Since you'll be using a temporary online service for code execution, save your work by running `jovian.commit` at regular intervals.\n",
    "* Questions marked **(Optional)** will not be considered for evaluation, and can be skipped. They are for your learning.\n",
    "\n",
    "You can make submissions on this page: https://jovian.ai/learn/data-structures-and-algorithms-in-python/assignment/assignment-1-binary-search-practice\n",
    "\n",
    "\n",
    "If you are stuck, you can ask for help on the community forum: https://jovian.ai/forum/c/data-structures-and-algorithms-in-python/assignment-1/87 . You can get help with errors or ask for hints, but **please don't ask for OR share the full working answer code** on the forum.\n",
    "\n",
    "\n",
    "\n",
    "## How to run the code and save your work\n",
    "\n",
    "The recommended way to run this notebook is to click the \"Run\" button at the top of this page, and select \"Run on Binder\". This will run the notebook on [mybinder.org](https://mybinder.org), a free online service for running Jupyter notebooks. \n",
    "\n",
    "This tutorial is an executable [Jupyter notebook](https://jupyter.org). You can _run_ this tutorial and experiment with the code examples in a couple of ways: *using free online resources* (recommended) or *on your computer*.\n",
    "\n",
    "#### Option 1: Running using free online resources (1-click, recommended)\n",
    "\n",
    "The easiest way to start executing the code is to click the **Run** button at the top of this page and select **Run on Binder**. You can also select \"Run on Colab\" or \"Run on Kaggle\", but you'll need to create an account on [Google Colab](https://colab.research.google.com) or [Kaggle](https://kaggle.com) to use these platforms.\n",
    "\n",
    "\n",
    "#### Option 2: Running on your computer locally\n",
    "\n",
    "To run the code on your computer locally, you'll need to set up [Python](https://www.python.org), download the notebook and install the required libraries. We recommend using the [Conda](https://docs.conda.io/projects/conda/en/latest/user-guide/install/) distribution of Python. Click the **Run** button at the top of this page, select the **Run Locally** option, and follow the instructions.\n",
    "\n",
    "#### Saving your work\n",
    "\n",
    "Before staring the assignment, let's save a snapshot of the assignment to your [Jovian](https://jovian.ai) profile, so that you can access it later, and continue your work.\n",
    "\n",
    "!pip install jovian --upgrade --quiet\n",
    "\n",
    "import jovian\n",
    "\n",
    "project='python-binary-search-assignment'\n",
    "\n",
    "jovian.commit(project=project, privacy='secret', environment=None)\n",
    "\n",
    "You may be asked to [provide an API Key](https://jovian.ai/docs/user-guide/upload.html) to upload your notebook. The privacy of your assignment notebook is set to \"Secret\", so that you can the evaluators can access it, but it will not shown on your public profile to other users. \n",
    "\n",
    "To continue working on a saved assignment, just visit [your profile](https://jovian.ai/) and run the saved notebook again.\n",
    "\n",
    "## Problem - Rotated Lists\n",
    "\n",
    "We'll solve the following problem step-by-step:\n",
    "\n",
    "> You are given list of numbers, obtained by rotating a sorted list an unknown number of times. Write a function to determine the minimum number of times the original sorted list was rotated to obtain the given list. Your function should have the worst-case complexity of `O(log N)`, where N is the length of the list. You can assume that all the numbers in the list are unique.\n",
    ">\n",
    "> Example: The list `[5, 6, 9, 0, 2, 3, 4]` was obtained by rotating the sorted list `[0, 2, 3, 4, 5, 6, 9]` 3 times.\n",
    ">\n",
    "> We define \"rotating a list\" as removing the last element of the list and adding it before the first element. E.g. rotating the list `[3, 2, 4, 1]` produces `[1, 3, 2, 4]`. \n",
    ">\n",
    ">\"Sorted list\" refers to a list where the elements are arranged in the increasing order  e.g. `[1, 3, 5, 7]`.\n",
    ">\n",
    "\n",
    "## The Method\n",
    "\n",
    "Here's the systematic strategy we'll apply for solving problems:\n",
    "\n",
    "1. State the problem clearly. Identify the input & output formats.\n",
    "2. Come up with some example inputs & outputs. Try to cover all edge cases.\n",
    "3. Come up with a correct solution for the problem. State it in plain English.\n",
    "4. Implement the solution and test it using example inputs. Fix bugs, if any.\n",
    "5. Analyze the algorithm's complexity and identify inefficiencies, if any.\n",
    "6. Apply the right technique to overcome the inefficiency. Repeat steps 3 to 6.\n",
    "\n",
    "This approach is explained in detail in [Lesson 1](https://jovian.ai/learn/data-structures-and-algorithms-in-python/lesson/lesson-1-binary-search-linked-lists-and-complexity) of the course. Let's apply this approach step-by-step.\n",
    "\n",
    "## Solution\n",
    "\n",
    "\n",
    "### 1. State the problem clearly. Identify the input & output formats.\n",
    "\n",
    "While this problem is stated clearly enough, it's always useful to try and express in your own words, in a way that makes it most clear for you. It's perfectly OK if your description overlaps with the original problem statement to a large extent.\n",
    "\n",
    "<br/>\n",
    "\n",
    "_**Q: Express the problem in your own words below (to edit this cell, double click on it).**_\n",
    "\n",
    "**Problem**\n",
    "\n",
    "> **???** \n",
    "\n",
    "<br/>\n",
    "\n",
    "_**Q: The function you write will take one input called `nums`. What does it represent? Give an example.**_\n",
    "\n",
    "**Input**\n",
    "\n",
    "1. `nums`: **???**\n",
    "\n",
    "<br/>\n",
    "\n",
    "_**Q: The function you write will return a single output called `rotations`. What does it represent? Give an example.**_\n",
    "\n",
    "**Output**\n",
    "\n",
    "3. `rotations`: **???**\n",
    "\n",
    "<br/>\n",
    "\n",
    "Based on the above, we can now create a signature of our function:\n",
    "\n",
    "def count_rotations(nums):\n",
    "    pass\n",
    "\n",
    "After each, step remember to save your notebook\n",
    "\n",
    "jovian.commit(project=project)\n",
    "\n",
    "### 2. Come up with some example inputs & outputs. Try to cover all edge cases.\n",
    "\n",
    "Our function should be able to handle any set of valid inputs we pass into it. Here's a list of some possible variations we might encounter:\n",
    "\n",
    "1. A list of size 10 rotated 3 times.\n",
    "2. A list of size 8 rotated 5 times.\n",
    "3. A list that wasn't rotated at all.\n",
    "4. A list that was rotated just once. \n",
    "5. A list that was rotated `n-1` times, where `n` is the size of the list.\n",
    "6. A list that was rotated `n` times (do you get back the original list here?)\n",
    "7. An empty list.\n",
    "8. A list containing just one element.\n",
    "9. (can you think of any more?)\n",
    "\n",
    "We'll express our test cases as dictionaries, to test them easily. Each dictionary will contain 2 keys: `input` (a dictionary itself containing one key for each argument to the function and `output` (the expected result from the function). Here's an example.\n",
    "\n",
    "test = {\n",
    "    'input': {\n",
    "        'nums': [19, 25, 29, 3, 5, 6, 7, 9, 11, 14]\n",
    "    },\n",
    "    'output': 3\n",
    "}\n",
    "\n",
    "We can test the function by passing the input to it directly or by using the `evaluate_test_case` function from `jovian`.\n",
    "\n",
    "nums0 = test['input']['nums']\n",
    "output0 = test['input']['nums']\n",
    "result0 = count_rotations(nums0)\n",
    "\n",
    "result0, result0 == output0\n",
    "\n",
    "from jovian.pythondsa import evaluate_test_case\n",
    "\n",
    "evaluate_test_case(count_rotations, test)\n",
    "\n",
    "Let's create one test case for each of the scenarios listed above. We'll store our test cases in an array called `tests`.\n",
    "\n",
    "_**Q: Create proper test cases for each of the scenarios listed above.**_\n",
    "\n",
    "test0 = test\n",
    "\n",
    "# A list of size 8 rotated 5 times.\n",
    "test1 = {\n",
    "    'input': {\n",
    "        'nums': ???\n",
    "    },\n",
    "    'output': ???\n",
    "}\n",
    "\n",
    "# A list that wasn't rotated at all.\n",
    "test2 = {\n",
    "    'input': {\n",
    "        'nums': ???\n",
    "    },\n",
    "    'output': ???\n",
    "}\n",
    "\n",
    "A list that was rotated just once.\n",
    "A list that was rotated n-1 times, where n is the size of the list.\n",
    "A list that was rotated n times (do you get back the original list here?)\n",
    "An empty list.\n",
    "A list containing just one element.\n",
    "\n",
    "# A list that was rotated just once.\n",
    "test3 = {\n",
    "    'input': {\n",
    "        'nums': ???\n",
    "    },\n",
    "    'output': ???\n",
    "}\n",
    "\n",
    "# A list that was rotated n-1 times, where n is the size of the list.\n",
    "test4 = {\n",
    "    'input': {\n",
    "        'nums': ???\n",
    "    },\n",
    "    'output': ???\n",
    "}\n",
    "\n",
    "# A list that was rotated n times, where n is the size of the list\n",
    "test5 = {\n",
    "    'input': {\n",
    "        'nums': ???\n",
    "    },\n",
    "    'output': ???\n",
    "}\n",
    "\n",
    "**HINT**: Read the question carefully to determine the correct output for the above test case.\n",
    "\n",
    "# An empty list.\n",
    "test6 = {\n",
    "    'input': {\n",
    "        'nums': ???\n",
    "    },\n",
    "    'output': ???\n",
    "}\n",
    "\n",
    "# A list containing just one element.\n",
    "test7 = {\n",
    "    'input': {\n",
    "        'nums': ???\n",
    "    },\n",
    "    'output': ???\n",
    "}\n",
    "\n",
    "tests = [test0, test1, test2, test3, test3, test5, test6, test7]\n",
    "\n",
    "_**Q (Optional): Include any further test cases below, for other interesting scenarios you can think of.**_\n",
    "\n",
    "\n",
    "\n",
    "\n",
    "\n",
    "Evaluate your function against all the test cases together using the `evaluate_test_cases` (plural) function from `jovian`.\n",
    "\n",
    "from jovian.pythondsa import evaluate_test_cases\n",
    "\n",
    "evaluate_test_cases(count_rotations, tests)\n",
    "\n",
    "Verify that all the test cases were evaluated. We expect them all to fail, since we haven't implemented the function yet.\n",
    "\n",
    "Let's save our work before continuing.\n",
    "\n",
    "jovian.commit(project=project)\n",
    "\n",
    "### 3. Come up with a correct solution for the problem. State it in plain English.\n",
    "\n",
    "Our first goal should always be to come up with a _correct_ solution to the problem, which may not necessarily be the most _efficient_ solution. Try to think of a solution before you read further. \n",
    "\n",
    "Coming up with the correct solution is quite easy, and it's based on this insight: If a list of sorted numbers is rotated `k` times, then the smallest number in the list ends up at position `k` (counting from 0). Further, it is the only number in the list which is smaller than the number before it. Thus, we simply need to **check for each number in the list whether it is smaller than the number that comes before it** (if there is a number before it). Then, our answer i.e. the number of rotations is simply the position of this number is . If we cannot find such a number, then the list wasn't rotated at all.\n",
    "\n",
    "Example: In the list `[19, 25, 29, 3, 5, 6, 7, 9, 11, 14]`, the number `3` is the only number smaller than its predecessor. It occurs at the position `3` (counting from `0`), hence the array was rotated `3` times.\n",
    "\n",
    "\n",
    "We can use the *linear search* algorithm as a first attempt to solve this problem i.e. we can perform the check for every position one by one. But first, try describing the above solution in your own words, that make it clear to you.\n",
    "\n",
    "_**Q (Optional): Describe the linear search solution explained above problem in your own words.**_\n",
    "\n",
    "1. **???**\n",
    "2. **???**\n",
    "3. **???**\n",
    "4. **???**\n",
    "\n",
    "(add more steps if required)\n",
    "\n",
    "\n",
    "Let's save and upload our work before continuing.\n",
    "\n",
    "import jovian\n",
    "\n",
    "jovian.commit(project=project)\n",
    "\n",
    "###  4. Implement the solution and test it using example inputs. Fix bugs, if any.\n",
    "\n",
    "_**Q: Implement the solution described in step 3.**_\n",
    "\n",
    "def count_rotations_linear(nums):\n",
    "    position = ???                 # What is the intial value of position?\n",
    "    \n",
    "    while ???:                     # When should the loop be terminated?\n",
    "        \n",
    "        # Success criteria: check whether the number at the current position is smaller than the one before it\n",
    "        if position > 0 and ???:   # How to perform the check?\n",
    "            return position\n",
    "        \n",
    "        # Move to the next position\n",
    "        position += 1\n",
    "    \n",
    "    return ???                     # What if none of the positions passed the check               \n",
    "\n",
    "Let's test out the function with the first test case.\n",
    "\n",
    "linear_search_result = evaluate_test_case(count_rotations_linear, test)\n",
    "\n",
    "Make sure your function passes the test. Fix bugs, if any. \n",
    "\n",
    "Let's test it out with all the test cases.\n",
    "\n",
    "linear_search_results = evaluate_test_cases(count_rotations_linear, tests)\n",
    "\n",
    "Once again, make sure all the tests pass. Fix errors and bugs, if any.\n",
    "\n",
    "**NOTE**: During evaluation, your submission will be tested against a much larger set of test cases (not listed here). Make sure to test your solution thoroughly.\n",
    "\n",
    "If you are stuck, you can ask for help on the community forum: https://jovian.ai/forum/c/data-structures-and-algorithms-in-python/assignment-1/87 . You can get help with errors or ask for hints, but **please don't ask for OR share the full working answer code** on the forum.\n",
    "\n",
    "### 5. Analyze the algorithm's complexity and identify inefficiencies, if any.\n",
    "\n",
    "Count the maximum number of iterations it may take for the algorithm to return the result.\n",
    "\n",
    "_**Q: What is the worst-case complexity (running time) of the algorithm expressed in the Big O Notation? Assume that the size of the list is `N` (uppercase).**_\n",
    "\n",
    "\n",
    "linear_search_complexity = \"???\"\n",
    "\n",
    "### 6. Apply the right technique to overcome the inefficiency. Repeat steps 3 to 6.\n",
    "\n",
    "As you might have guessed, we can apply _Binary Search_ to solve this problem. The key question we need to answer in binary search is: Given the middle element, how to decide if it is the answer (smallest number), or whether the answer lies to the left or right of it. \n",
    "\n",
    "If the middle element is smaller than its predecessor, then it is the answer. However, if it isn't, this check is not sufficient to determine whether the answer lies to the left or the right of it. Consider the following examples.\n",
    "\n",
    "`[7, 8, 1, 3, 4, 5, 6]` (answer lies to the left of the middle element)\n",
    "\n",
    "`[1, 2, 3, 4, 5, -1, 0]` (answer lies to the right of the middle element)\n",
    "\n",
    "Here's a check that will help us determine if the answer lies to the left or the right: _If the middle element of the list is smaller than the last element of the range, then the answer lies to the left of it. Otherwise, the answer lies to the right._\n",
    "\n",
    "Do you see why this strategy works?\n",
    "\n",
    "\n",
    "### 7. Come up with a correct solution for the problem. State it in plain English.\n",
    "\n",
    "Before we implement the solution, it's useful to describe it in a way that makes most sense to you. In a coding interview, you will almost certainly be asked to describe your approach before you start writing code.\n",
    "\n",
    "_**Q (Optional): Describe the binary search solution explained above problem in your own words.**_\n",
    "\n",
    "1. **???**\n",
    "2. **???**\n",
    "3. **???**\n",
    "4. **???**\n",
    "\n",
    "(add more steps if required)\n",
    "\n",
    "Let's save and upload our work before continuing.\n",
    "\n",
    "jovian.commit(project=project)\n",
    "\n",
    "### 8. Implement the solution and test it using example inputs. Fix bugs, if any.\n",
    "\n",
    "*__Q: Implement the binary search solution described in step 7.__*\n",
    "\n",
    "If you are stuck, you can ask for help on the community forum: https://jovian.ai/forum/c/data-structures-and-algorithms-in-python/assignment-1/87 . You can get help with errors or ask for hints, but **please don't ask for OR share the full working answer code** on the forum.\n",
    "\n",
    "def count_rotations_binary(nums):\n",
    "    lo = ???\n",
    "    hi = ???\n",
    "    \n",
    "    while ???:\n",
    "        mid = ???\n",
    "        mid_number = nums[mid]\n",
    "        \n",
    "        # Uncomment the next line for logging the values and fixing errors.\n",
    "        # print(\"lo:\", lo, \", hi:\", hi, \", mid:\", mid, \", mid_number:\", mid_number)\n",
    "        \n",
    "        if mid > 0 and ???:\n",
    "            # The middle position is the answer\n",
    "            return mid\n",
    "        \n",
    "        elif ???:\n",
    "            # Answer lies in the left half\n",
    "            hi = mid - 1  \n",
    "        \n",
    "        else:\n",
    "            # Answer lies in the right half\n",
    "            lo = mid + 1\n",
    "    \n",
    "    return ???\n",
    "\n",
    "Let's test out the function with the first test case.\n",
    "\n",
    "binary_search_result = evaluate_test_case(count_rotations_binary, test)\n",
    "\n",
    "Make sure your function passes the test. Fix bugs, if any.\n",
    "\n",
    "Let's test it out with all the test cases.\n",
    "\n",
    "binary_search_results = evaluate_test_cases(count_rotations_binary, tests)\n",
    "\n",
    "Once again, make sure all the tests pass. Fix errors and bugs, if any.\n",
    "\n",
    "**NOTE**: During evaluation, your submission will be tested against a much larger set of test cases (not listed here). Make sure to test your solution thoroughly.\n",
    "\n",
    "If you are stuck, you can ask for help on the community forum: https://jovian.ai/forum/c/data-structures-and-algorithms-in-python/assignment-1/87 . You can get help with errors or ask for hints, but **please don't ask for OR share the full working answer code** on the forum.\n",
    "\n",
    "Let's save our work before continuing.\n",
    "\n",
    "jovian.commit(project=project)\n",
    "\n",
    "### 9. Analyze the algorithm's complexity and identify inefficiencies, if any.\n",
    "\n",
    "_**Q: What is the worst-case complexity (running time) of the algorithm expressed in the Big O Notation? Assume that the size of the list is `N` (uppercase).**_\n",
    "\n",
    "Hint: Count the maximum number of iterations it may take for the algorithm to return the result.\n",
    "\n",
    "binary_search_complexity = \"???\"\n",
    "\n",
    "Is binary search the optimal solution to the problem? How can you prove it? Discuss in the forums.\n",
    "\n",
    "Let's save our work before continuing.\n",
    "\n",
    "import jovian\n",
    "\n",
    "jovian.commit()\n",
    "\n",
    "## Make a Submission\n",
    "\n",
    "To make a submission, visit the [assignment page](https://jovian.ai/learn/data-structures-and-algorithms-in-python/assignment/assignment-1-binary-search-practice) and submit the link to your notebook.\n",
    "\n",
    "You can also make a submission by executing the following statement:\n",
    "\n",
    "jovian.submit(assignment=\"pythondsa-assignment1\")\n",
    "\n",
    "You can view your previous submissions under the \"Submission History\" section of the [assignment page](https://jovian.ai/learn/data-structures-and-algorithms-in-python/assignment/assignment-1-binary-search-practice). Only your last sumission will be considered for evaluation.\n",
    "\n",
    "## Bonus Questions\n",
    "\n",
    "The questions in this section are optional, and will not affect your grade. Discuss the bonus questions here: https://jovian.ai/forum/t/optional-bonus-questions-discussion-assignment-1/15486\n",
    "\n",
    "You can also copy over the bonus questions to a new notebook to share your solution on the forum without sharing your assignment notebook. Duplicate this template: https://jovian.ai/aakashns/python-problem-solving-template\n",
    "\n",
    "\n",
    "### Optional Bonus 1: Using the Generic Binary Search Algorithm\n",
    "\n",
    "The `jovian` library provides a generic implementation of the binary search algorithm.\n",
    "\n",
    "from jovian.pythondsa import binary_search\n",
    "\n",
    "You can view it's source code using the `??` command in Jupyter or on [the Github repository](https://github.com/JovianML/jovian-py/blob/master/jovian/pythondsa/__init__.py#L68) for the `jovian` library.\n",
    "\n",
    "??binary_search\n",
    "\n",
    "_**Q (Optional): Implement the `count_rotations` function using the generic `binary_search` function.**_\n",
    "\n",
    "Hint: You'll need to define the condition which returns `\"found\"`, `\"left\"` or `\"right\"` by performing the appropriate check on the middle position in the range.\n",
    "\n",
    "def count_rotations_generic(nums):\n",
    "    def condition(mid):\n",
    "        pass # replace this with your code\n",
    "        \n",
    "    return binary_search(0, len(nums)-1, condition)\n",
    "\n",
    "evaluate_test_case(count_rotations_generic, test)\n",
    "\n",
    "evaluate_test_cases(count_rotations_generic, test)\n",
    "\n",
    "jovian.commit()\n",
    "\n",
    "Discuss your solution on the forum: https://jovian.ai/forum/c/data-structures-and-algorithms-in-python/assignment-1/87\n",
    "\n",
    "### Optional Bonus 2: Handling repeating numbers\n",
    "\n",
    "So far we've assumed that the numbers in the list are unique. What if the numbers can repeat? E.g. `[5, 6, 6, 9, 9, 9, 0, 0, 2, 3, 3, 3, 3, 4, 4]`. Can you modify your solution to handle this special case?\n",
    "\n",
    "\n",
    "_**Q (Optional): Create additional test cases where the list can contain repeating numbers**_\n",
    "\n",
    "extended_tests = list(tests)\n",
    "\n",
    "extended_test.append({\n",
    "    # add your test case here\n",
    "})\n",
    "\n",
    "extended_test.append({\n",
    "    # add your test case here\n",
    "})\n",
    "\n",
    "# add more test cases if required\n",
    "\n",
    "jovian.commit()\n",
    "\n",
    "_**Q (Optional): Modify your solution (if required) to handle the case where the list can contain repeating numbers.**_\n",
    "\n",
    "def count_rotations_generic(nums):\n",
    "    pass # replace this with your code\n",
    "\n",
    "Test your function to make sure it works properly.\n",
    "\n",
    "\n",
    "\n",
    "\n",
    "\n",
    "Discuss your solution on the forum: https://jovian.ai/forum/c/data-structures-and-algorithms-in-python/assignment-1/87\n",
    "\n",
    "### Optional Bonus 3: Searching in a Rotated List\n",
    "\n",
    "Here's a slightly advanced extension to this problem:\n",
    "\n",
    "> You are given list of numbers, obtained by rotating a sorted list an unknown number of times. You are also given a target number. Write a function to find the position of the target number within the rotated list. You can assume that all the numbers in the list are unique.\n",
    ">\n",
    "> Example: In the rotated sorted list `[5, 6, 9, 0, 2, 3, 4]`, the target number `2` occurs at position `5`.\n",
    "\n",
    "**Q (Optional): Create some test cases for the above problem.**\n",
    "\n",
    "tests2 = []\n",
    "\n",
    "# add test cases here\n",
    "\n",
    "\n",
    "\n",
    "**Q (Optional): Implement a solution to the above problem using binary search.**\n",
    "\n",
    "_HINT:_ One way to solve this problem is to identify two sorted subarrays within the given array (using the `count_rotations_binary` function defined above), then perform a binary search on each subarray to determine the position of the target element. Another way is to modify `count_rotations_binary` to solve the problem directly.\n",
    "\n",
    "def find_element(nums, target):\n",
    "    pass \n",
    "\n",
    "Test your solution using the cells below.\n",
    "\n",
    "\n",
    "\n",
    "You can test your solution to the above problem here: https://leetcode.com/problems/search-in-rotated-sorted-array/\n",
    "\n",
    "Discuss your approach on the forum: https://jovian.ai/forum/c/data-structures-and-algorithms-in-python/assignment-1/87\n",
    "\n",
    "jovian.commit()"
   ]
  },
  {
   "cell_type": "code",
   "execution_count": 7,
   "metadata": {},
   "outputs": [],
   "source": [
    "test1 = {\n",
    "    \"input\":{\"nums\": [4,5,6,7,8,1,2,3]},\n",
    "    \"output\": 5\n",
    "}"
   ]
  },
  {
   "cell_type": "code",
   "execution_count": 8,
   "metadata": {},
   "outputs": [],
   "source": [
    "test2 = {\n",
    "    \"input\":{\"nums\": [1,2,3,4,5,6,7,8]},\n",
    "    \"output\": 0\n",
    "}"
   ]
  },
  {
   "cell_type": "code",
   "execution_count": 9,
   "metadata": {},
   "outputs": [],
   "source": [
    "test3 = {\n",
    "    \"input\":{\"nums\": [7,3,5]},\n",
    "    \"output\": 1\n",
    "}"
   ]
  },
  {
   "cell_type": "code",
   "execution_count": 10,
   "metadata": {},
   "outputs": [],
   "source": [
    "test4 = {\n",
    "    \"input\":{\"nums\": [3,5,7,8,9,10]},\n",
    "    # \"output\": 6\n",
    "    \"output\": 0\n",
    "\n",
    "}"
   ]
  },
  {
   "cell_type": "code",
   "execution_count": 11,
   "metadata": {},
   "outputs": [],
   "source": [
    "test5 = {\n",
    "    \"input\":{\"nums\": [2,3,4,5,6,7,8,1]},\n",
    "    \"output\": 7\n",
    "\n",
    "}"
   ]
  },
  {
   "cell_type": "code",
   "execution_count": 22,
   "metadata": {},
   "outputs": [],
   "source": [
    "test6 = {\n",
    "    \"input\":{\"nums\": [2]},\n",
    "    \"output\": 0\n",
    "\n",
    "}"
   ]
  },
  {
   "cell_type": "code",
   "execution_count": 13,
   "metadata": {},
   "outputs": [],
   "source": [
    "test7 = {\n",
    "    \"input\":{\"nums\": []},\n",
    "    \"output\": 0\n",
    "\n",
    "}"
   ]
  },
  {
   "cell_type": "code",
   "execution_count": 23,
   "metadata": {},
   "outputs": [],
   "source": [
    "tests = [test1,test2,test3,test4,test5,test6,test7]"
   ]
  },
  {
   "cell_type": "code",
   "execution_count": 24,
   "metadata": {},
   "outputs": [
    {
     "data": {
      "text/plain": [
       "[{'input': {'nums': [4, 5, 6, 7, 8, 1, 2, 3]}, 'output': 5},\n",
       " {'input': {'nums': [1, 2, 3, 4, 5, 6, 7, 8]}, 'output': 0},\n",
       " {'input': {'nums': [7, 3, 5]}, 'output': 1},\n",
       " {'input': {'nums': [3, 5, 7, 8, 9, 10]}, 'output': 0},\n",
       " {'input': {'nums': [2, 3, 4, 5, 6, 7, 8, 1]}, 'output': 7},\n",
       " {'input': {'nums': [2]}, 'output': 0},\n",
       " {'input': {'nums': []}, 'output': 0}]"
      ]
     },
     "execution_count": 24,
     "metadata": {},
     "output_type": "execute_result"
    }
   ],
   "source": [
    "tests"
   ]
  },
  {
   "cell_type": "markdown",
   "metadata": {},
   "source": [
    "# Method 1"
   ]
  },
  {
   "cell_type": "markdown",
   "metadata": {},
   "source": [
    "- [4,5,6,7,8,1,2,3]\n",
    "- smallest number position is 5  = number of shift is 5"
   ]
  },
  {
   "cell_type": "markdown",
   "metadata": {},
   "source": [
    "- create a variable position with value 0\n",
    "- Compare the number at current position to the number before it\n",
    "- if the number is smaller than its predecessor, then return position\n",
    "- otherwise, increment position and repeat till we exhaust all the numbers.\n",
    "\n"
   ]
  },
  {
   "cell_type": "code",
   "execution_count": 25,
   "metadata": {},
   "outputs": [],
   "source": [
    "def count_rotations_linear(nums):\n",
    "    position = 0\n",
    "\n",
    "    while position < len(nums):\n",
    "        if position > 0 and nums[position] < nums[position-1]:\n",
    "            return position\n",
    "        \n",
    "        position +=1\n",
    "\n",
    "    return 0\n"
   ]
  },
  {
   "cell_type": "code",
   "execution_count": 26,
   "metadata": {},
   "outputs": [
    {
     "data": {
      "text/plain": [
       "7"
      ]
     },
     "execution_count": 26,
     "metadata": {},
     "output_type": "execute_result"
    }
   ],
   "source": [
    "count_rotations_linear([2,3,4,5,6,7,8,1])"
   ]
  },
  {
   "cell_type": "code",
   "execution_count": 27,
   "metadata": {},
   "outputs": [
    {
     "name": "stdout",
     "output_type": "stream",
     "text": [
      "test  1  :  True\n",
      "\n",
      "test  2  :  True\n",
      "\n",
      "test  3  :  True\n",
      "\n",
      "test  4  :  True\n",
      "\n",
      "test  5  :  True\n",
      "\n",
      "test  6  :  True\n",
      "\n",
      "test  7  :  True\n",
      "\n"
     ]
    }
   ],
   "source": [
    "i = 1\n",
    "for test in tests:\n",
    "    print(\"test \",i, \" : \",count_rotations_linear(**test['input']) == test[\"output\"])\n",
    "    print()\n",
    "\n",
    "    i +=1"
   ]
  },
  {
   "cell_type": "markdown",
   "metadata": {},
   "source": [
    "- complexity of linear search is  = \"O(N)\""
   ]
  },
  {
   "cell_type": "markdown",
   "metadata": {},
   "source": [
    "# Method 2"
   ]
  },
  {
   "cell_type": "markdown",
   "metadata": {},
   "source": [
    "### apply Binear search "
   ]
  },
  {
   "cell_type": "markdown",
   "metadata": {},
   "source": [
    "- if middle element is smaller then the previous element then position of middle element is the answer\n",
    "\n",
    "* if answer lies to the left of the middle element [7,8,1,3,4,5,6]\n",
    "    -   if \n",
    "\n",
    "* if answer lies to the right of the middle element [1,2,3,4,5,-1,0]\n",
    "    - if\n"
   ]
  },
  {
   "cell_type": "code",
   "execution_count": 48,
   "metadata": {},
   "outputs": [],
   "source": [
    "def count_rotations_binary(nums):\n",
    "    lo = 0\n",
    "    hi = len(nums)-1\n",
    "    \n",
    "    while lo <= hi:\n",
    "        mid = (lo+hi)//2\n",
    "\n",
    "        mid_number = nums[mid]\n",
    "        \n",
    "        # Uncomment the next line for logging the values and fixing errors.\n",
    "        # print(\"lo:\", lo, \", hi:\", hi, \", mid:\", mid, \", mid_number:\", mid_number)\n",
    "        \n",
    "        if mid > 0 and mid_number < nums[mid-1]:\n",
    "            # The middle position is the answer\n",
    "            return mid\n",
    "        \n",
    "        elif mid_number < nums[-1]:\n",
    "            # Answer lies in the left half\n",
    "            hi = mid - 1  \n",
    "        \n",
    "        else:\n",
    "            # Answer lies in the right half\n",
    "            lo = mid + 1\n",
    "    \n",
    "    return 0"
   ]
  },
  {
   "cell_type": "code",
   "execution_count": 49,
   "metadata": {},
   "outputs": [
    {
     "data": {
      "text/plain": [
       "3"
      ]
     },
     "execution_count": 49,
     "metadata": {},
     "output_type": "execute_result"
    }
   ],
   "source": [
    "count_rotations_binary([9,10,11,-1,0,1,3,4,5,6,7,8])\n"
   ]
  },
  {
   "cell_type": "code",
   "execution_count": 50,
   "metadata": {},
   "outputs": [
    {
     "data": {
      "text/plain": [
       "4"
      ]
     },
     "execution_count": 50,
     "metadata": {},
     "output_type": "execute_result"
    }
   ],
   "source": [
    "count_rotations_binary([2,3,4,5,-1,0,1])\n"
   ]
  },
  {
   "cell_type": "code",
   "execution_count": 51,
   "metadata": {},
   "outputs": [
    {
     "data": {
      "text/plain": [
       "2"
      ]
     },
     "execution_count": 51,
     "metadata": {},
     "output_type": "execute_result"
    }
   ],
   "source": [
    "count_rotations_binary([2,3,-1,0,1])\n"
   ]
  },
  {
   "cell_type": "code",
   "execution_count": 52,
   "metadata": {},
   "outputs": [
    {
     "data": {
      "text/plain": [
       "[{'input': {'nums': [4, 5, 6, 7, 8, 1, 2, 3]}, 'output': 5},\n",
       " {'input': {'nums': [1, 2, 3, 4, 5, 6, 7, 8]}, 'output': 0},\n",
       " {'input': {'nums': [7, 3, 5]}, 'output': 1},\n",
       " {'input': {'nums': [3, 5, 7, 8, 9, 10]}, 'output': 0},\n",
       " {'input': {'nums': [2, 3, 4, 5, 6, 7, 8, 1]}, 'output': 7},\n",
       " {'input': {'nums': [2]}, 'output': 0},\n",
       " {'input': {'nums': []}, 'output': 0}]"
      ]
     },
     "execution_count": 52,
     "metadata": {},
     "output_type": "execute_result"
    }
   ],
   "source": [
    "tests"
   ]
  },
  {
   "cell_type": "code",
   "execution_count": 53,
   "metadata": {},
   "outputs": [
    {
     "name": "stdout",
     "output_type": "stream",
     "text": [
      "test  1  :  True\n",
      "\n",
      "test  2  :  True\n",
      "\n",
      "test  3  :  True\n",
      "\n",
      "test  4  :  True\n",
      "\n",
      "test  5  :  True\n",
      "\n",
      "test  6  :  True\n",
      "\n",
      "test  7  :  True\n",
      "\n"
     ]
    }
   ],
   "source": [
    "i = 1\n",
    "for test in tests:\n",
    "    print(\"test \",i, \" : \",count_rotations_binary(**test['input']) == test[\"output\"])\n",
    "    print()\n",
    "\n",
    "    i +=1"
   ]
  },
  {
   "cell_type": "code",
   "execution_count": 54,
   "metadata": {},
   "outputs": [
    {
     "data": {
      "text/plain": [
       "0"
      ]
     },
     "execution_count": 54,
     "metadata": {},
     "output_type": "execute_result"
    }
   ],
   "source": [
    "count_rotations_binary([1, 2, 3, 4, 5, 6, 7, 8])\n"
   ]
  },
  {
   "cell_type": "code",
   "execution_count": null,
   "metadata": {},
   "outputs": [],
   "source": []
  }
 ],
 "metadata": {
  "kernelspec": {
   "display_name": "base",
   "language": "python",
   "name": "python3"
  },
  "language_info": {
   "codemirror_mode": {
    "name": "ipython",
    "version": 3
   },
   "file_extension": ".py",
   "mimetype": "text/x-python",
   "name": "python",
   "nbconvert_exporter": "python",
   "pygments_lexer": "ipython3",
   "version": "3.11.5"
  }
 },
 "nbformat": 4,
 "nbformat_minor": 2
}
