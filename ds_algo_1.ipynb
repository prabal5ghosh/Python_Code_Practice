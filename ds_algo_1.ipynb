{
 "cells": [
  {
   "cell_type": "code",
   "execution_count": null,
   "metadata": {},
   "outputs": [],
   "source": []
  },
  {
   "cell_type": "markdown",
   "metadata": {},
   "source": [
    "**QUESTION 1: Alice has some cards with numbers written on them. She arranges the cards in decreasing order, and lays them out face down in a sequence on a table. She challenges Bob to pick out the card containing a given number by turning over as few cards as possible. Write a function to help Bob locate the card.**"
   ]
  },
  {
   "cell_type": "markdown",
   "metadata": {},
   "source": [
    "Our function should be able to handle any set of valid inputs we pass into it. Here's a list of some possible variations we might encounter:\n",
    "\n",
    "1. The number `query` occurs somewhere in the middle of the list `cards`.\n",
    "2. `query` is the first element in `cards`.\n",
    "3. `query` is the last element in `cards`.\n",
    "4. The list `cards` contains just one element, which is `query`.\n",
    "5. The list `cards` does not contain number `query`.\n",
    "6. The list `cards` is empty.\n",
    "7. The list `cards` contains repeating numbers.\n",
    "8. The number `query` occurs at more than one position in `cards`.\n"
   ]
  },
  {
   "cell_type": "code",
   "execution_count": null,
   "metadata": {},
   "outputs": [],
   "source": []
  },
  {
   "cell_type": "markdown",
   "metadata": {},
   "source": [
    "Write different test cases for the problem"
   ]
  },
  {
   "cell_type": "code",
   "execution_count": 1,
   "metadata": {},
   "outputs": [],
   "source": [
    "tests = []"
   ]
  },
  {
   "cell_type": "code",
   "execution_count": 2,
   "metadata": {},
   "outputs": [],
   "source": [
    "test0 = { 'input': {\n",
    "    'cards': [13,12,11,7,4,3,1,0],\n",
    "    'query' : 7\n",
    "        },\n",
    "        'output': 3}\n",
    "\n",
    "tests.append(test0)"
   ]
  },
  {
   "cell_type": "code",
   "execution_count": 3,
   "metadata": {},
   "outputs": [],
   "source": [
    "test1 = { 'input': {\n",
    "    'cards': [13,12,11,7,4,3,1,0],\n",
    "    'query' : 1\n",
    "        },\n",
    "        'output': 6}\n",
    "\n",
    "tests.append(test1)"
   ]
  },
  {
   "cell_type": "code",
   "execution_count": 4,
   "metadata": {},
   "outputs": [],
   "source": [
    "test2 = { 'input': {\n",
    "    'cards': [4, 2, 1, -1],\n",
    "    'query' : 4        },\n",
    "        'output': 0}\n",
    "\n",
    "tests.append(test2)"
   ]
  },
  {
   "cell_type": "code",
   "execution_count": 5,
   "metadata": {},
   "outputs": [],
   "source": [
    "test3 = { 'input': {\n",
    "    'cards': [3, -1, -9, -127],\n",
    "    'query' : -127\n",
    "        },\n",
    "        'output': 3}\n",
    "\n",
    "tests.append(test3)"
   ]
  },
  {
   "cell_type": "code",
   "execution_count": 6,
   "metadata": {},
   "outputs": [],
   "source": [
    "# cards contains just one element, query\n",
    "test4 = {\n",
    "    'input': {\n",
    "        'cards': [6],\n",
    "        'query': 6\n",
    "    },\n",
    "    'output': 0 \n",
    "}\n",
    "tests.append(test4)"
   ]
  },
  {
   "cell_type": "code",
   "execution_count": 7,
   "metadata": {},
   "outputs": [],
   "source": [
    "# cards does not contain query \n",
    "test5 = {\n",
    "    'input': {\n",
    "        'cards': [9, 7, 5, 2, -9],\n",
    "        'query': 4\n",
    "    },\n",
    "    'output': -1\n",
    "}\n",
    "\n",
    "tests.append(test5)\n"
   ]
  },
  {
   "cell_type": "code",
   "execution_count": 8,
   "metadata": {},
   "outputs": [],
   "source": [
    "# cards is empty\n",
    "test6 ={\n",
    "    'input': {\n",
    "        'cards': [],\n",
    "        'query': 7\n",
    "    },\n",
    "    'output': -1\n",
    "}\n",
    "tests.append(test6)\n"
   ]
  },
  {
   "cell_type": "code",
   "execution_count": 32,
   "metadata": {},
   "outputs": [],
   "source": [
    "# query occurs multiple times\n",
    "test7 = ({\n",
    "    'input': {\n",
    "        'cards': [8, 8, 6, 6, 6, 6, 6, 6, 3, 2, 2, 2, 0, 0, 0],\n",
    "        'query': 6\n",
    "    },\n",
    "    'output': 2\n",
    "})\n",
    "\n",
    "tests.append(test7)\n"
   ]
  },
  {
   "cell_type": "code",
   "execution_count": 33,
   "metadata": {},
   "outputs": [
    {
     "data": {
      "text/plain": [
       "[{'input': {'cards': [13, 12, 11, 7, 4, 3, 1, 0], 'query': 7}, 'output': 3},\n",
       " {'input': {'cards': [13, 12, 11, 7, 4, 3, 1, 0], 'query': 1}, 'output': 6},\n",
       " {'input': {'cards': [4, 2, 1, -1], 'query': 4}, 'output': 0},\n",
       " {'input': {'cards': [3, -1, -9, -127], 'query': -127}, 'output': 3},\n",
       " {'input': {'cards': [6], 'query': 6}, 'output': 0},\n",
       " {'input': {'cards': [9, 7, 5, 2, -9], 'query': 4}, 'output': -1},\n",
       " {'input': {'cards': [], 'query': 7}, 'output': -1},\n",
       " {'input': {'cards': [8, 8, 6, 6, 6, 6, 6, 6, 3, 2, 2, 2, 0, 0, 0],\n",
       "   'query': 6},\n",
       "  'output': 2},\n",
       " {'input': {'cards': [8, 8, 6, 6, 6, 6, 6, 6, 3, 2, 2, 2, 0, 0, 0],\n",
       "   'query': 6},\n",
       "  'output': 3}]"
      ]
     },
     "execution_count": 33,
     "metadata": {},
     "output_type": "execute_result"
    }
   ],
   "source": [
    "tests"
   ]
  },
  {
   "cell_type": "code",
   "execution_count": 11,
   "metadata": {},
   "outputs": [],
   "source": [
    "class Card_Position():\n",
    "    def __init__(self) -> None:\n",
    "        pass\n",
    "    def locate_card(self,cards, query):\n",
    "        position = 0\n",
    "\n",
    "        while True:\n",
    "            if cards[position] == query:\n",
    "                return position\n",
    "            position += 1\n",
    "\n",
    "            if position == len(cards):\n",
    "                return -1\n",
    "            "
   ]
  },
  {
   "cell_type": "code",
   "execution_count": 12,
   "metadata": {},
   "outputs": [
    {
     "data": {
      "text/plain": [
       "{'input': {'cards': [13, 12, 11, 7, 4, 3, 1, 0], 'query': 7}, 'output': 3}"
      ]
     },
     "execution_count": 12,
     "metadata": {},
     "output_type": "execute_result"
    }
   ],
   "source": [
    "test0"
   ]
  },
  {
   "cell_type": "code",
   "execution_count": 13,
   "metadata": {},
   "outputs": [
    {
     "data": {
      "text/plain": [
       "[13, 12, 11, 7, 4, 3, 1, 0]"
      ]
     },
     "execution_count": 13,
     "metadata": {},
     "output_type": "execute_result"
    }
   ],
   "source": [
    "test0['input']['cards']"
   ]
  },
  {
   "cell_type": "code",
   "execution_count": 14,
   "metadata": {},
   "outputs": [
    {
     "data": {
      "text/plain": [
       "7"
      ]
     },
     "execution_count": 14,
     "metadata": {},
     "output_type": "execute_result"
    }
   ],
   "source": [
    "test0['input']['query']"
   ]
  },
  {
   "cell_type": "code",
   "execution_count": 15,
   "metadata": {},
   "outputs": [],
   "source": [
    "obj1 = Card_Position()"
   ]
  },
  {
   "cell_type": "code",
   "execution_count": 16,
   "metadata": {},
   "outputs": [],
   "source": [
    "result = obj1.locate_card(test0['input']['cards'],test0['input']['query'])"
   ]
  },
  {
   "cell_type": "code",
   "execution_count": 17,
   "metadata": {},
   "outputs": [
    {
     "data": {
      "text/plain": [
       "True"
      ]
     },
     "execution_count": 17,
     "metadata": {},
     "output_type": "execute_result"
    }
   ],
   "source": [
    "result == test0['output']"
   ]
  },
  {
   "cell_type": "code",
   "execution_count": 18,
   "metadata": {},
   "outputs": [
    {
     "name": "stdout",
     "output_type": "stream",
     "text": [
      "test  0  :  True\n",
      "test  1  :  True\n",
      "test  2  :  True\n",
      "test  3  :  True\n",
      "test  4  :  True\n",
      "test  5  :  True\n"
     ]
    },
    {
     "ename": "IndexError",
     "evalue": "list index out of range",
     "output_type": "error",
     "traceback": [
      "\u001b[1;31m---------------------------------------------------------------------------\u001b[0m",
      "\u001b[1;31mIndexError\u001b[0m                                Traceback (most recent call last)",
      "Cell \u001b[1;32mIn[18], line 3\u001b[0m\n\u001b[0;32m      1\u001b[0m i \u001b[38;5;241m=\u001b[39m \u001b[38;5;241m0\u001b[39m\n\u001b[0;32m      2\u001b[0m \u001b[38;5;28;01mfor\u001b[39;00m test \u001b[38;5;129;01min\u001b[39;00m tests:\n\u001b[1;32m----> 3\u001b[0m     \u001b[38;5;28mprint\u001b[39m(\u001b[38;5;124m\"\u001b[39m\u001b[38;5;124mtest \u001b[39m\u001b[38;5;124m\"\u001b[39m,i, \u001b[38;5;124m\"\u001b[39m\u001b[38;5;124m : \u001b[39m\u001b[38;5;124m\"\u001b[39m,obj1\u001b[38;5;241m.\u001b[39mlocate_card(\u001b[38;5;241m*\u001b[39m\u001b[38;5;241m*\u001b[39mtest[\u001b[38;5;124m'\u001b[39m\u001b[38;5;124minput\u001b[39m\u001b[38;5;124m'\u001b[39m]) \u001b[38;5;241m==\u001b[39m test[\u001b[38;5;124m\"\u001b[39m\u001b[38;5;124moutput\u001b[39m\u001b[38;5;124m\"\u001b[39m])\n\u001b[0;32m      4\u001b[0m     i \u001b[38;5;241m+\u001b[39m\u001b[38;5;241m=\u001b[39m\u001b[38;5;241m1\u001b[39m\n",
      "Cell \u001b[1;32mIn[11], line 8\u001b[0m, in \u001b[0;36mCard_Position.locate_card\u001b[1;34m(self, cards, query)\u001b[0m\n\u001b[0;32m      5\u001b[0m position \u001b[38;5;241m=\u001b[39m \u001b[38;5;241m0\u001b[39m\n\u001b[0;32m      7\u001b[0m \u001b[38;5;28;01mwhile\u001b[39;00m \u001b[38;5;28;01mTrue\u001b[39;00m:\n\u001b[1;32m----> 8\u001b[0m     \u001b[38;5;28;01mif\u001b[39;00m cards[position] \u001b[38;5;241m==\u001b[39m query:\n\u001b[0;32m      9\u001b[0m         \u001b[38;5;28;01mreturn\u001b[39;00m position\n\u001b[0;32m     10\u001b[0m     position \u001b[38;5;241m+\u001b[39m\u001b[38;5;241m=\u001b[39m \u001b[38;5;241m1\u001b[39m\n",
      "\u001b[1;31mIndexError\u001b[0m: list index out of range"
     ]
    }
   ],
   "source": [
    "i = 0\n",
    "for test in tests:\n",
    "    print(\"test \",i, \" : \",obj1.locate_card(**test['input']) == test[\"output\"])\n",
    "    i +=1"
   ]
  },
  {
   "cell_type": "code",
   "execution_count": null,
   "metadata": {},
   "outputs": [],
   "source": []
  },
  {
   "cell_type": "code",
   "execution_count": 19,
   "metadata": {},
   "outputs": [],
   "source": [
    "class Card_Position():\n",
    "    def __init__(self) -> None:\n",
    "        pass\n",
    "    def locate_card(self,cards, query):\n",
    "        position = 0\n",
    "\n",
    "        while position < len(cards) :\n",
    "            if cards[position] == query:\n",
    "                return position\n",
    "            position += 1\n",
    "        return -1\n",
    "            "
   ]
  },
  {
   "cell_type": "code",
   "execution_count": 20,
   "metadata": {},
   "outputs": [],
   "source": [
    "obj1 = Card_Position()\n"
   ]
  },
  {
   "cell_type": "code",
   "execution_count": 21,
   "metadata": {},
   "outputs": [
    {
     "name": "stdout",
     "output_type": "stream",
     "text": [
      "test  0  :  True\n",
      "test  1  :  True\n",
      "test  2  :  True\n",
      "test  3  :  True\n",
      "test  4  :  True\n",
      "test  5  :  True\n",
      "test  6  :  True\n",
      "test  7  :  True\n"
     ]
    }
   ],
   "source": [
    "i = 0\n",
    "for test in tests:\n",
    "    print(\"test \",i, \" : \",obj1.locate_card(**test['input']) == test[\"output\"])\n",
    "    i +=1"
   ]
  },
  {
   "cell_type": "markdown",
   "metadata": {},
   "source": [
    "Worst case complexity \n",
    "- Linear search\n",
    "- Time complexity of this code is **O(n)**\n",
    "- Space complexity = **O(1)**"
   ]
  },
  {
   "cell_type": "code",
   "execution_count": null,
   "metadata": {},
   "outputs": [],
   "source": []
  },
  {
   "cell_type": "markdown",
   "metadata": {},
   "source": [
    "**Binary search**"
   ]
  },
  {
   "cell_type": "markdown",
   "metadata": {},
   "source": [
    "### 6. Apply the right technique to overcome the inefficiency. Repeat steps 3 to 6.\n",
    "\n",
    "At the moment, we're simply going over cards one by one, and not even utilizing the face that they're sorted. This is called a *brute force* approach.\n",
    "\n",
    "It would be great if Bob could somehow guess the card at the first attempt, but with all the cards turned over it's simply impossible to guess the right card. \n",
    "\n",
    "\n",
    "<img src=\"https://i.imgur.com/mazym6s.png\" width=\"480\">\n",
    "\n",
    "The next best idea would be to pick a random card, and use the fact that the list is sorted, to determine whether the target card lies to the left or right of it. In fact, if we pick the middle card, we can reduce the number of additional cards to be tested to half the size of the list. Then, we can simply repeat the process with each half. This technique is called binary search. Here's a visual explanation of the technique:\n",
    "\n",
    "\n",
    "\n",
    "<img src=\"https://miro.medium.com/max/494/1*3eOrsoF9idyOp-0Ll9I9PA.png\" width=\"480\">\n",
    "\n",
    "\n"
   ]
  },
  {
   "cell_type": "markdown",
   "metadata": {},
   "source": [
    "### 7. Come up with a correct solution for the problem. State it in plain English.\n",
    "\n",
    "Here's how binary search can be applied to our problem:\n",
    "\n",
    "1. Find the middle element of the list.\n",
    "2. If it matches queried number, return the middle position as the answer.\n",
    "3. If it is less than the queried number, then search the first half of the list\n",
    "3. If it is greater than the queried number, then search the second half of the list\n",
    "4. If no more elements remain, return -1.\n",
    "\n"
   ]
  },
  {
   "cell_type": "code",
   "execution_count": null,
   "metadata": {},
   "outputs": [],
   "source": []
  },
  {
   "cell_type": "code",
   "execution_count": 52,
   "metadata": {},
   "outputs": [],
   "source": [
    "def locate_card(cards, query):\n",
    "    lo,high = 0, len(cards)-1\n",
    "    while lo <= high:\n",
    "        mid_pos = (lo+high)//2\n",
    "        mid_num = cards[mid_pos]\n",
    "        print(\"low:\",lo,\" high:\",high,\" mid_pos:\",mid_pos,\" mid_num:\",mid_num)\n",
    "        if mid_num == query:\n",
    "            return mid_pos\n",
    "        elif mid_num < query:\n",
    "            high = mid_pos-1\n",
    "        elif mid_num > query:\n",
    "            lo = mid_pos+1\n",
    "    return -1\n",
    "    "
   ]
  },
  {
   "cell_type": "code",
   "execution_count": 53,
   "metadata": {},
   "outputs": [
    {
     "data": {
      "text/plain": [
       "{'input': {'cards': [3, -1, -9, -127], 'query': -127}, 'output': 3}"
      ]
     },
     "execution_count": 53,
     "metadata": {},
     "output_type": "execute_result"
    }
   ],
   "source": [
    "test3"
   ]
  },
  {
   "cell_type": "code",
   "execution_count": 54,
   "metadata": {},
   "outputs": [
    {
     "name": "stdout",
     "output_type": "stream",
     "text": [
      "low: 0  high: 3  mid_pos: 1  mid_num: -1\n",
      "low: 2  high: 3  mid_pos: 2  mid_num: -9\n",
      "low: 3  high: 3  mid_pos: 3  mid_num: -127\n"
     ]
    },
    {
     "data": {
      "text/plain": [
       "3"
      ]
     },
     "execution_count": 54,
     "metadata": {},
     "output_type": "execute_result"
    }
   ],
   "source": [
    "locate_card(test3['input']['cards'],test3['input']['query'])"
   ]
  },
  {
   "cell_type": "code",
   "execution_count": null,
   "metadata": {},
   "outputs": [],
   "source": []
  },
  {
   "cell_type": "code",
   "execution_count": 55,
   "metadata": {},
   "outputs": [
    {
     "name": "stdout",
     "output_type": "stream",
     "text": [
      "low: 0  high: 3  mid_pos: 1  mid_num: -1\n",
      "low: 2  high: 3  mid_pos: 2  mid_num: -9\n",
      "low: 3  high: 3  mid_pos: 3  mid_num: -127\n"
     ]
    },
    {
     "data": {
      "text/plain": [
       "3"
      ]
     },
     "execution_count": 55,
     "metadata": {},
     "output_type": "execute_result"
    }
   ],
   "source": [
    "locate_card(test3['input']['cards'],test3['input']['query'])"
   ]
  },
  {
   "cell_type": "code",
   "execution_count": 56,
   "metadata": {},
   "outputs": [
    {
     "name": "stdout",
     "output_type": "stream",
     "text": [
      "low: 0  high: 7  mid_pos: 3  mid_num: 7\n",
      "test  0  :  True\n",
      "low: 0  high: 7  mid_pos: 3  mid_num: 7\n",
      "low: 4  high: 7  mid_pos: 5  mid_num: 3\n",
      "low: 6  high: 7  mid_pos: 6  mid_num: 1\n",
      "test  1  :  True\n",
      "low: 0  high: 3  mid_pos: 1  mid_num: 2\n",
      "low: 0  high: 0  mid_pos: 0  mid_num: 4\n",
      "test  2  :  True\n",
      "low: 0  high: 3  mid_pos: 1  mid_num: -1\n",
      "low: 2  high: 3  mid_pos: 2  mid_num: -9\n",
      "low: 3  high: 3  mid_pos: 3  mid_num: -127\n",
      "test  3  :  True\n",
      "low: 0  high: 0  mid_pos: 0  mid_num: 6\n",
      "test  4  :  True\n",
      "low: 0  high: 4  mid_pos: 2  mid_num: 5\n",
      "low: 3  high: 4  mid_pos: 3  mid_num: 2\n",
      "test  5  :  True\n",
      "test  6  :  True\n",
      "low: 0  high: 14  mid_pos: 7  mid_num: 6\n",
      "test  7  :  False\n"
     ]
    }
   ],
   "source": [
    "i = 0\n",
    "for test in tests:\n",
    "    print(\"test \",i, \" : \",locate_card(**test['input']) == test[\"output\"])\n",
    "    i +=1"
   ]
  },
  {
   "cell_type": "code",
   "execution_count": null,
   "metadata": {},
   "outputs": [],
   "source": []
  },
  {
   "cell_type": "code",
   "execution_count": null,
   "metadata": {},
   "outputs": [],
   "source": []
  },
  {
   "cell_type": "markdown",
   "metadata": {},
   "source": [
    "# method 1"
   ]
  },
  {
   "cell_type": "code",
   "execution_count": 34,
   "metadata": {},
   "outputs": [],
   "source": [
    "def locate_card(cards, query):\n",
    "    lo,high = 0, len(cards)-1\n",
    "    while lo <= high:\n",
    "        mid_pos = (lo+high)//2\n",
    "        mid_num = cards[mid_pos]\n",
    "        print(\"low:\",lo,\" high:\",high,\" mid_pos:\",mid_pos,\" mid_num:\",mid_num)\n",
    "        if mid_num == query:\n",
    "            if mid_pos-1 >=0:\n",
    "                while cards[mid_pos-1] == mid_num:\n",
    "                    mid_pos = mid_pos-1\n",
    "            return mid_pos\n",
    "        elif mid_num < query:\n",
    "            high = mid_pos-1\n",
    "        elif mid_num > query:\n",
    "            lo = mid_pos+1\n",
    "    return -1    "
   ]
  },
  {
   "cell_type": "code",
   "execution_count": 35,
   "metadata": {},
   "outputs": [
    {
     "data": {
      "text/plain": [
       "{'input': {'cards': [6], 'query': 6}, 'output': 0}"
      ]
     },
     "execution_count": 35,
     "metadata": {},
     "output_type": "execute_result"
    }
   ],
   "source": [
    "test4"
   ]
  },
  {
   "cell_type": "code",
   "execution_count": 36,
   "metadata": {},
   "outputs": [
    {
     "name": "stdout",
     "output_type": "stream",
     "text": [
      "low: 0  high: 0  mid_pos: 0  mid_num: 6\n"
     ]
    },
    {
     "data": {
      "text/plain": [
       "0"
      ]
     },
     "execution_count": 36,
     "metadata": {},
     "output_type": "execute_result"
    }
   ],
   "source": [
    "locate_card(test4['input']['cards'],test4['input']['query'])"
   ]
  },
  {
   "cell_type": "code",
   "execution_count": 37,
   "metadata": {},
   "outputs": [
    {
     "name": "stdout",
     "output_type": "stream",
     "text": [
      "low: 0  high: 7  mid_pos: 3  mid_num: 7\n",
      "test  0  :  True\n",
      "\n",
      "low: 0  high: 7  mid_pos: 3  mid_num: 7\n",
      "low: 4  high: 7  mid_pos: 5  mid_num: 3\n",
      "low: 6  high: 7  mid_pos: 6  mid_num: 1\n",
      "test  1  :  True\n",
      "\n",
      "low: 0  high: 3  mid_pos: 1  mid_num: 2\n",
      "low: 0  high: 0  mid_pos: 0  mid_num: 4\n",
      "test  2  :  True\n",
      "\n",
      "low: 0  high: 3  mid_pos: 1  mid_num: -1\n",
      "low: 2  high: 3  mid_pos: 2  mid_num: -9\n",
      "low: 3  high: 3  mid_pos: 3  mid_num: -127\n",
      "test  3  :  True\n",
      "\n",
      "low: 0  high: 0  mid_pos: 0  mid_num: 6\n",
      "test  4  :  True\n",
      "\n",
      "low: 0  high: 4  mid_pos: 2  mid_num: 5\n",
      "low: 3  high: 4  mid_pos: 3  mid_num: 2\n",
      "test  5  :  True\n",
      "\n",
      "test  6  :  True\n",
      "\n",
      "low: 0  high: 14  mid_pos: 7  mid_num: 6\n",
      "test  7  :  True\n",
      "\n",
      "low: 0  high: 14  mid_pos: 7  mid_num: 6\n",
      "test  8  :  False\n",
      "\n"
     ]
    }
   ],
   "source": [
    "i = 0\n",
    "for test in tests:\n",
    "    print(\"test \",i, \" : \",locate_card(**test['input']) == test[\"output\"])\n",
    "    print()\n",
    "\n",
    "    i +=1"
   ]
  },
  {
   "cell_type": "code",
   "execution_count": null,
   "metadata": {},
   "outputs": [],
   "source": []
  },
  {
   "cell_type": "markdown",
   "metadata": {},
   "source": [
    "# method 2"
   ]
  },
  {
   "cell_type": "code",
   "execution_count": null,
   "metadata": {},
   "outputs": [],
   "source": [
    "def test_location(cards, query, mid_pos):\n",
    "    mid_num = cards[mid_pos]\n",
    "\n"
   ]
  },
  {
   "cell_type": "code",
   "execution_count": null,
   "metadata": {},
   "outputs": [],
   "source": [
    "def locate_card(cards, query):\n",
    "    lo,high = 0, len(cards)-1\n",
    "    while lo <= high:\n",
    "        mid_pos = (lo+high)//2\n",
    "        result = test_location(cards, query, mid_pos)\n",
    "        if result == \"found\":\n",
    "            return mid_pos\n",
    "        elif result == \"left\":\n",
    "            high = mid_pos-1\n",
    "        elif result == \"right\":\n",
    "            lo = mid_pos+1\n",
    "    return -1    "
   ]
  }
 ],
 "metadata": {
  "kernelspec": {
   "display_name": "base",
   "language": "python",
   "name": "python3"
  },
  "language_info": {
   "codemirror_mode": {
    "name": "ipython",
    "version": 3
   },
   "file_extension": ".py",
   "mimetype": "text/x-python",
   "name": "python",
   "nbconvert_exporter": "python",
   "pygments_lexer": "ipython3",
   "version": "3.11.5"
  }
 },
 "nbformat": 4,
 "nbformat_minor": 2
}
